{
 "cells": [
  {
   "cell_type": "markdown",
   "metadata": {
    "toc": true
   },
   "source": [
    "<h1>Table of Contents<span class=\"tocSkip\"></span></h1>\n",
    "<div class=\"toc\" style=\"margin-top: 1em;\"><ul class=\"toc-item\"><li><span><a href=\"#Introduction\" data-toc-modified-id=\"Introduction-1\"><span class=\"toc-item-num\">1&nbsp;&nbsp;</span>Introduction</a></span><ul class=\"toc-item\"><li><span><a href=\"#Nodes-checking\" data-toc-modified-id=\"Nodes-checking-1.1\"><span class=\"toc-item-num\">1.1&nbsp;&nbsp;</span>Nodes checking</a></span></li><li><span><a href=\"#Nodes_tags\" data-toc-modified-id=\"Nodes_tags-1.2\"><span class=\"toc-item-num\">1.2&nbsp;&nbsp;</span>Nodes_tags</a></span><ul class=\"toc-item\"><li><span><a href=\"#Auditing-phase\" data-toc-modified-id=\"Auditing-phase-1.2.1\"><span class=\"toc-item-num\">1.2.1&nbsp;&nbsp;</span>Auditing phase</a></span></li><li><span><a href=\"#Exploring-phase\" data-toc-modified-id=\"Exploring-phase-1.2.2\"><span class=\"toc-item-num\">1.2.2&nbsp;&nbsp;</span>Exploring phase</a></span></li></ul></li></ul></li><li><span><a href=\"#Overview-of-the-Data\" data-toc-modified-id=\"Overview-of-the-Data-2\"><span class=\"toc-item-num\">2&nbsp;&nbsp;</span>Overview of the Data</a></span></li><li><span><a href=\"#OSM-to-CSV-convertion\" data-toc-modified-id=\"OSM-to-CSV-convertion-3\"><span class=\"toc-item-num\">3&nbsp;&nbsp;</span>OSM to CSV convertion</a></span></li><li><span><a href=\"#SQL-section\" data-toc-modified-id=\"SQL-section-4\"><span class=\"toc-item-num\">4&nbsp;&nbsp;</span>SQL section</a></span></li><li><span><a href=\"#Other-ideas-about-the-datasets\" data-toc-modified-id=\"Other-ideas-about-the-datasets-5\"><span class=\"toc-item-num\">5&nbsp;&nbsp;</span>Other ideas about the datasets</a></span></li><li><span><a href=\"#Literature\" data-toc-modified-id=\"Literature-6\"><span class=\"toc-item-num\">6&nbsp;&nbsp;</span>Literature</a></span></li></ul></div>"
   ]
  },
  {
   "cell_type": "markdown",
   "metadata": {},
   "source": [
    "4. Sczytanie\n",
    "4. Podać czy jest aktualne, ponieważ Wrocław jest miastem w ciągłej rozbudowie i to bardzo istotne\n",
    "5. Liczba przedszkoli\n",
    "6. Liczba fastfoodów\n",
    "7. "
   ]
  },
  {
   "cell_type": "code",
   "execution_count": 24,
   "metadata": {
    "collapsed": true
   },
   "outputs": [],
   "source": [
    "import xml.etree.ElementTree as ET\n",
    "import os\n",
    "import re\n",
    "import pyprind\n",
    "import osmcsv\n",
    "import sqlite3\n",
    "import pandas as pd\n",
    "\n",
    "from collections import defaultdict\n",
    "from __future__ import division\n",
    "from tablecreator import table_creator\n",
    "\n",
    "# Setting file\n",
    "wroclaw = 'wroclaw'"
   ]
  },
  {
   "cell_type": "markdown",
   "metadata": {},
   "source": [
    "# Introduction"
   ]
  },
  {
   "cell_type": "markdown",
   "metadata": {},
   "source": [
    "Problem encountered :\n",
    "\n",
    "1. Due to the application OSM as the GPS backend I would like to see whether it is not outdated.\n",
    "2. Due to the problem with importing data from csv files, I have created an own importer based on the sqlite3 python library. \n"
   ]
  },
  {
   "cell_type": "code",
   "execution_count": 2,
   "metadata": {
    "collapsed": true
   },
   "outputs": [],
   "source": [
    "def count_tags(filename):\n",
    "    tags = defaultdict(lambda: 0)\n",
    "    for i in ET.iterparse(filename):\n",
    "        tags[i[1].tag] += 1\n",
    "    return tags"
   ]
  },
  {
   "cell_type": "code",
   "execution_count": 3,
   "metadata": {
    "collapsed": true
   },
   "outputs": [],
   "source": [
    "tags = count_tags(wroclaw)"
   ]
  },
  {
   "cell_type": "code",
   "execution_count": 7,
   "metadata": {},
   "outputs": [
    {
     "data": {
      "text/html": [
       "<div>\n",
       "<style>\n",
       "    .dataframe thead tr:only-child th {\n",
       "        text-align: right;\n",
       "    }\n",
       "\n",
       "    .dataframe thead th {\n",
       "        text-align: left;\n",
       "    }\n",
       "\n",
       "    .dataframe tbody tr th {\n",
       "        vertical-align: top;\n",
       "    }\n",
       "</style>\n",
       "<table border=\"1\" class=\"dataframe\">\n",
       "  <thead>\n",
       "    <tr style=\"text-align: right;\">\n",
       "      <th></th>\n",
       "      <th>Number of elements</th>\n",
       "    </tr>\n",
       "  </thead>\n",
       "  <tbody>\n",
       "    <tr>\n",
       "      <th>way</th>\n",
       "      <td>39294</td>\n",
       "    </tr>\n",
       "    <tr>\n",
       "      <th>member</th>\n",
       "      <td>68743</td>\n",
       "    </tr>\n",
       "    <tr>\n",
       "      <th>osm</th>\n",
       "      <td>1</td>\n",
       "    </tr>\n",
       "    <tr>\n",
       "      <th>note</th>\n",
       "      <td>1</td>\n",
       "    </tr>\n",
       "    <tr>\n",
       "      <th>tag</th>\n",
       "      <td>214770</td>\n",
       "    </tr>\n",
       "    <tr>\n",
       "      <th>bounds</th>\n",
       "      <td>1</td>\n",
       "    </tr>\n",
       "    <tr>\n",
       "      <th>nd</th>\n",
       "      <td>360671</td>\n",
       "    </tr>\n",
       "    <tr>\n",
       "      <th>node</th>\n",
       "      <td>253769</td>\n",
       "    </tr>\n",
       "    <tr>\n",
       "      <th>meta</th>\n",
       "      <td>1</td>\n",
       "    </tr>\n",
       "    <tr>\n",
       "      <th>relation</th>\n",
       "      <td>1290</td>\n",
       "    </tr>\n",
       "  </tbody>\n",
       "</table>\n",
       "</div>"
      ],
      "text/plain": [
       "          Number of elements\n",
       "way                    39294\n",
       "member                 68743\n",
       "osm                        1\n",
       "note                       1\n",
       "tag                   214770\n",
       "bounds                     1\n",
       "nd                    360671\n",
       "node                  253769\n",
       "meta                       1\n",
       "relation                1290"
      ]
     },
     "execution_count": 7,
     "metadata": {},
     "output_type": "execute_result"
    }
   ],
   "source": [
    "tag_summary = pd.DataFrame.from_dict(tags, orient='index')\n",
    "tag_summary.columns = [\"Number of elements\"]\n",
    "tag_summary"
   ]
  },
  {
   "cell_type": "code",
   "execution_count": 90,
   "metadata": {
    "collapsed": true
   },
   "outputs": [],
   "source": [
    "def osm_update_street(tag = None,\n",
    "               ):\n",
    "    \n",
    "    ''''This function changes data with the updator function. It should be included into the\n",
    "    osmcsv.py file before stage of the saving the csv.  \n",
    "    \n",
    "    [INPUT]\n",
    "    keys - list of keys to be searched with the spcific value;\n",
    "    pattern - regex pattern;\n",
    "    \n",
    "    [OUTPUT]\n",
    "    None - it changes the string before including it into the csv file. \n",
    "    '''\n",
    "    if tag['k'].keys()[0] in [\"street\"]:\n",
    "        name = tag['k'][\"street\"]\n",
    "        word = re.compile('(^\")(.*)(\"$)')\n",
    "        tag['k'][\"street\"] = word.findall(name)[0][1]\n",
    "        print(tag['k'][\"street\"])\n",
    "        \n",
    "\n",
    "   "
   ]
  },
  {
   "cell_type": "markdown",
   "metadata": {},
   "source": [
    "## Nodes checking"
   ]
  },
  {
   "cell_type": "markdown",
   "metadata": {},
   "source": [
    "After importing data to csv I have found some issues - the id which should be a primary key is repetetive:\n",
    "\n",
    "```nodes.csv:253769: INSERT failed: UNIQUE constraint failed: nodes.id```\n",
    "\n",
    "\n",
    "Let's eliminate problems. "
   ]
  },
  {
   "cell_type": "markdown",
   "metadata": {},
   "source": [
    "From schema we have:"
   ]
  },
  {
   "cell_type": "code",
   "execution_count": null,
   "metadata": {
    "collapsed": true
   },
   "outputs": [],
   "source": [
    "table_creator = \"\"\"CREATE TABLE nodes (\n",
    "    id INTEGER PRIMARY KEY NOT NULL,\n",
    "    lat REAL,\n",
    "    lon REAL,\n",
    "    user TEXT,\n",
    "    uid INTEGER,\n",
    "    version INTEGER,\n",
    "    changeset INTEGER,\n",
    "    timestamp TEXT\n",
    ");"
   ]
  },
  {
   "cell_type": "markdown",
   "metadata": {},
   "source": [
    "In the pythonic way"
   ]
  },
  {
   "cell_type": "markdown",
   "metadata": {},
   "source": [
    "Name | Type of data SQL | Type of data python \n",
    ":-:|-|-\n",
    "id| integer | int [primary key]\n",
    "lat | REAL | float\n",
    "lon | REAL | float\n",
    "user | TEXT | int\n",
    "uid | INTEGER | int\n",
    "version | INTEGER | int\n",
    "changeset | INTEGER | int\n",
    "timestamp | TEXT | string\n"
   ]
  },
  {
   "cell_type": "markdown",
   "metadata": {},
   "source": [
    "In the file schema we have however:\n",
    "\n",
    "```'version': {'required': True, 'type': 'string'},```"
   ]
  },
  {
   "cell_type": "markdown",
   "metadata": {},
   "source": [
    "What is inconsistent with the integer type, let's try to convert the string to int:"
   ]
  },
  {
   "cell_type": "code",
   "execution_count": 116,
   "metadata": {
    "collapsed": true
   },
   "outputs": [],
   "source": [
    "for _, elem in ET.iterparse('wroclaw'):\n",
    "    if elem.tag == \"node\":\n",
    "        try:\n",
    "            int(elem.attrib[\"version\"])\n",
    "        except:\n",
    "            print(\"Problem\")\n",
    "            break"
   ]
  },
  {
   "cell_type": "markdown",
   "metadata": {},
   "source": [
    "Python is able to convert it to the integer so it cannot be the issue. \n",
    "\n",
    "Let's then see if the ids are unique. "
   ]
  },
  {
   "cell_type": "code",
   "execution_count": 118,
   "metadata": {
    "collapsed": true
   },
   "outputs": [],
   "source": [
    "unique_id = set()\n",
    "n = 0 \n",
    "for _, elem in ET.iterparse('wroclaw'):\n",
    "    if elem.tag == \"node\":\n",
    "        if elem.attrib[\"id\"] in unique_id:\n",
    "            print(\"Problem in the node No.{}\".format(n))\n",
    "            break\n",
    "        else:\n",
    "            unique_id.add(elem.attrib[\"id\"])\n",
    "            n += 1\n",
    "    \n",
    "    "
   ]
  },
  {
   "cell_type": "code",
   "execution_count": 120,
   "metadata": {},
   "outputs": [
    {
     "data": {
      "text/plain": [
       "253769"
      ]
     },
     "execution_count": 120,
     "metadata": {},
     "output_type": "execute_result"
    }
   ],
   "source": [
    "len(unique_id)"
   ]
  },
  {
   "cell_type": "markdown",
   "metadata": {},
   "source": [
    "We will check it manually during uploading each node separately from node.csv into the sqlite3:"
   ]
  },
  {
   "cell_type": "code",
   "execution_count": 180,
   "metadata": {
    "collapsed": true
   },
   "outputs": [],
   "source": [
    "nodes = pd.read_csv('nodes.csv')"
   ]
  },
  {
   "cell_type": "code",
   "execution_count": 181,
   "metadata": {},
   "outputs": [
    {
     "data": {
      "text/html": [
       "<div>\n",
       "<style scoped>\n",
       "    .dataframe tbody tr th:only-of-type {\n",
       "        vertical-align: middle;\n",
       "    }\n",
       "\n",
       "    .dataframe tbody tr th {\n",
       "        vertical-align: top;\n",
       "    }\n",
       "\n",
       "    .dataframe thead th {\n",
       "        text-align: right;\n",
       "    }\n",
       "</style>\n",
       "<table border=\"1\" class=\"dataframe\">\n",
       "  <thead>\n",
       "    <tr style=\"text-align: right;\">\n",
       "      <th></th>\n",
       "      <th>id</th>\n",
       "      <th>lat</th>\n",
       "      <th>lon</th>\n",
       "      <th>user</th>\n",
       "      <th>uid</th>\n",
       "      <th>version</th>\n",
       "      <th>changeset</th>\n",
       "      <th>timestamp</th>\n",
       "    </tr>\n",
       "  </thead>\n",
       "  <tbody>\n",
       "    <tr>\n",
       "      <th>0</th>\n",
       "      <td>95180666</td>\n",
       "      <td>51.133562</td>\n",
       "      <td>17.047751</td>\n",
       "      <td>maraf24</td>\n",
       "      <td>2098272</td>\n",
       "      <td>6</td>\n",
       "      <td>34674314</td>\n",
       "      <td>2015-10-16T12:23:16Z</td>\n",
       "    </tr>\n",
       "    <tr>\n",
       "      <th>1</th>\n",
       "      <td>95180677</td>\n",
       "      <td>51.132926</td>\n",
       "      <td>17.041397</td>\n",
       "      <td>maraf24</td>\n",
       "      <td>2098272</td>\n",
       "      <td>6</td>\n",
       "      <td>34674314</td>\n",
       "      <td>2015-10-16T12:23:16Z</td>\n",
       "    </tr>\n",
       "    <tr>\n",
       "      <th>2</th>\n",
       "      <td>145744978</td>\n",
       "      <td>51.099329</td>\n",
       "      <td>17.032203</td>\n",
       "      <td>Ventlan</td>\n",
       "      <td>717069</td>\n",
       "      <td>7</td>\n",
       "      <td>32843769</td>\n",
       "      <td>2015-07-24T10:15:56Z</td>\n",
       "    </tr>\n",
       "    <tr>\n",
       "      <th>3</th>\n",
       "      <td>145744984</td>\n",
       "      <td>51.101038</td>\n",
       "      <td>17.025219</td>\n",
       "      <td>lms</td>\n",
       "      <td>117617</td>\n",
       "      <td>5</td>\n",
       "      <td>11048634</td>\n",
       "      <td>2012-03-21T06:25:02Z</td>\n",
       "    </tr>\n",
       "    <tr>\n",
       "      <th>4</th>\n",
       "      <td>145744994</td>\n",
       "      <td>51.101283</td>\n",
       "      <td>17.020169</td>\n",
       "      <td>Ventlan</td>\n",
       "      <td>717069</td>\n",
       "      <td>7</td>\n",
       "      <td>32846165</td>\n",
       "      <td>2015-07-24T10:40:10Z</td>\n",
       "    </tr>\n",
       "  </tbody>\n",
       "</table>\n",
       "</div>"
      ],
      "text/plain": [
       "          id        lat        lon     user      uid  version  changeset  \\\n",
       "0   95180666  51.133562  17.047751  maraf24  2098272        6   34674314   \n",
       "1   95180677  51.132926  17.041397  maraf24  2098272        6   34674314   \n",
       "2  145744978  51.099329  17.032203  Ventlan   717069        7   32843769   \n",
       "3  145744984  51.101038  17.025219      lms   117617        5   11048634   \n",
       "4  145744994  51.101283  17.020169  Ventlan   717069        7   32846165   \n",
       "\n",
       "              timestamp  \n",
       "0  2015-10-16T12:23:16Z  \n",
       "1  2015-10-16T12:23:16Z  \n",
       "2  2015-07-24T10:15:56Z  \n",
       "3  2012-03-21T06:25:02Z  \n",
       "4  2015-07-24T10:40:10Z  "
      ]
     },
     "execution_count": 181,
     "metadata": {},
     "output_type": "execute_result"
    }
   ],
   "source": [
    "nodes.head()"
   ]
  },
  {
   "cell_type": "code",
   "execution_count": 183,
   "metadata": {
    "collapsed": true
   },
   "outputs": [],
   "source": [
    "for num, i in enumerate(range(nodes.shape[0])):\n",
    "    id_key, lat, lon, user, uid, version, changeset, timestamp = nodes.iloc[i]\n",
    "\n",
    "    c.execute('''INSERT INTO nodes \n",
    "                (id, lat, lon, user, uid, version, changeset, timestamp)\n",
    "        VALUES ({},{},{},'{}',{},{},{},'{}')'''.format(id_key, \n",
    "                                                   lat, \n",
    "                                                   lon, \n",
    "                                                   user, \n",
    "                                                   uid, \n",
    "                                                   version, \n",
    "                                                   changeset, \n",
    "                                                   timestamp)\n",
    "         )\n",
    "    \n",
    "conn.commit()\n",
    "conn.close()"
   ]
  },
  {
   "cell_type": "markdown",
   "metadata": {},
   "source": [
    "```\n",
    "sqlite> SELECT user, count(user) FROM nodes GROUP BY user ORDER BY count(user) DESC LIMIT 30;```\n",
    "```\n",
    "rowers2|84148\n",
    "lms|74261\n",
    "maraf24|65038\n",
    "Ancymon|6468\n",
    "psboypl|4955\n",
    "Zmianowy|2039\n",
    "mrIimbsf|1982\n",
    "marek kleciak|1837\n",
    "Nolan Proost|1674\n",
    "miko101|842\n",
    "one_half_3544|819\n",
    "jacek_zwik|811\n",
    "Podolak|652\n",
    "VRO|506\n",
    "Jaszczur|426\n",
    "Ventlan|421\n",
    "emes|391\n",
    "RitterR|368\n",
    "tomwyr|346\n",
    "Dotevo|343\n",
    "tajemniczyjogurt|283\n",
    "alfredlampe|236\n",
    "maro21|234\n",
    "Yarl|213\n",
    "Jedrzej Pelka|179\n",
    "LafarM|167\n",
    "lukaszww|165\n",
    "zoidberg|162\n",
    "nyuriks|154\n",
    "DJG_ww|135```\n"
   ]
  },
  {
   "cell_type": "markdown",
   "metadata": {},
   "source": [
    "There are three guys that more than 60k nodes! It is 88% of the nodes!. "
   ]
  },
  {
   "cell_type": "markdown",
   "metadata": {},
   "source": [
    "```\n",
    "sqlite> SELECT count(user) FROM nodes;```\n",
    "\n",
    "```\n",
    "253769```\n"
   ]
  },
  {
   "cell_type": "code",
   "execution_count": 193,
   "metadata": {},
   "outputs": [
    {
     "data": {
      "text/plain": [
       "0.8805133802789151"
      ]
     },
     "execution_count": 193,
     "metadata": {},
     "output_type": "execute_result"
    }
   ],
   "source": [
    "(84148 + 74261 + 65038)/253769"
   ]
  },
  {
   "cell_type": "markdown",
   "metadata": {},
   "source": [
    "## Nodes_tags"
   ]
  },
  {
   "cell_type": "markdown",
   "metadata": {},
   "source": [
    "We have not got any problems with importing data."
   ]
  },
  {
   "cell_type": "markdown",
   "metadata": {},
   "source": [
    "### Auditing phase"
   ]
  },
  {
   "cell_type": "markdown",
   "metadata": {},
   "source": [
    "```\n",
    "sqlite> select key, count(key) from nodes_tags GROUP BY key ORDER by count(key) DESC LIMIT 20;```\n",
    "\n",
    "```height,23177\n",
    "OBJECTID_height_lidar,11469\n",
    "street,4765\n",
    "housenumber,4740\n",
    "city,4698\n",
    "postcode,4546\n",
    "street:sym_ul,4266\n",
    "country,3892\n",
    "name,2886\n",
    "highway,1911\n",
    "amenity,1877\n",
    "barrier,1639\n",
    "natural,1403\n",
    "opening_hours,782\n",
    "shop,740\n",
    "addr:date,642\n",
    "addr:id,642\n",
    "addr:postcode:id,642\n",
    "addr:layer,641\n",
    "addr:postcode:layer,641```\n"
   ]
  },
  {
   "cell_type": "markdown",
   "metadata": {},
   "source": [
    "What is interesting in the Polish section there is a unique key addded to each street (\"street: sym_ul\"). As you are probably  an English speaking reader you may google translate this thread: https://forum.openstreetmap.org/viewtopic.php?id=59111 or here (https://wiki.openstreetmap.org/wiki/Talk:Pl:Importy/Adresy). \n",
    "\n",
    "Sym_ul is the id added by the Polish National Statistical Office. \n",
    "\n",
    "From the above we could see that  there are 4765 street tags, however street:sym_ul have 4266 positions. \n",
    "\n",
    "Let's check which street does not have any sym_ul tag: "
   ]
  },
  {
   "cell_type": "markdown",
   "metadata": {},
   "source": [
    "```\n",
    "sqlite> SELECT count(*) FROM (SELECT value FROM nodes_tags WHERE nodes_tags.key = \"street\" GROUP BY value);\n",
    "\n",
    "292\n",
    "```\n",
    "\n",
    "```\n",
    "sqlite> SELECT count(*) FROM (SELECT value FROM nodes_tags WHERE nodes_tags.key = \"street:sym_ul\" GROUP BY value);\n",
    "\n",
    "290\n",
    "```\n",
    "\n",
    "\n"
   ]
  },
  {
   "cell_type": "markdown",
   "metadata": {},
   "source": [
    "Then - let's compare list of streets with the sym_ul. "
   ]
  },
  {
   "cell_type": "code",
   "execution_count": 3,
   "metadata": {
    "collapsed": true
   },
   "outputs": [],
   "source": [
    "nodes_tags = pd.read_csv(\"nodes_tags.csv\")\n",
    "ways_tags = pd.read_csv(\"ways_tags.csv\")"
   ]
  },
  {
   "cell_type": "code",
   "execution_count": 4,
   "metadata": {
    "collapsed": true
   },
   "outputs": [],
   "source": [
    "nodes_tag_street= pd.DataFrame(nodes_tags[nodes_tags.key==\"street\"])"
   ]
  },
  {
   "cell_type": "code",
   "execution_count": 5,
   "metadata": {
    "collapsed": true
   },
   "outputs": [],
   "source": [
    "nodes_tag_sym_ul = pd.DataFrame(nodes_tags[nodes_tags.key==\"street:sym_ul\"])"
   ]
  },
  {
   "cell_type": "code",
   "execution_count": 6,
   "metadata": {
    "collapsed": true
   },
   "outputs": [],
   "source": [
    "street_code={}"
   ]
  },
  {
   "cell_type": "code",
   "execution_count": 7,
   "metadata": {
    "collapsed": true
   },
   "outputs": [],
   "source": [
    "weirds = []\n",
    "\n",
    "for num, i in zip(nodes_tag_street.index, nodes_tag_street.id):\n",
    "    checker = 0\n",
    "    for num_sec, j in zip(nodes_tag_sym_ul.index, nodes_tag_sym_ul.id):\n",
    "        if i == j:\n",
    "            street_code[nodes_tag_street.get_value(num, \"value\")] = nodes_tag_sym_ul.get_value(num_sec, \"value\")\n",
    "            checker = 1\n",
    "            break\n",
    "            \n",
    "    if checker:\n",
    "        continue\n",
    "    weirds.append(nodes_tag_street.get_value(num, \"value\"))"
   ]
  },
  {
   "cell_type": "code",
   "execution_count": 8,
   "metadata": {},
   "outputs": [
    {
     "data": {
      "text/plain": [
       "True"
      ]
     },
     "execution_count": 8,
     "metadata": {},
     "output_type": "execute_result"
    }
   ],
   "source": [
    "len(weirds) == nodes_tag_street.shape[0] - nodes_tag_sym_ul.shape[0]"
   ]
  },
  {
   "cell_type": "code",
   "execution_count": 9,
   "metadata": {},
   "outputs": [
    {
     "name": "stdout",
     "output_type": "stream",
     "text": [
      "Plac Konstytucji 3 Maja\n",
      "Plac Konstytucji 3 Maja\n",
      "Grabarska\n"
     ]
    }
   ],
   "source": [
    "for i in weirds:\n",
    "    try: \n",
    "        street_code[i]\n",
    "    except KeyError:\n",
    "        print(i)"
   ]
  },
  {
   "cell_type": "code",
   "execution_count": 10,
   "metadata": {
    "scrolled": false
   },
   "outputs": [
    {
     "data": {
      "text/html": [
       "<div>\n",
       "<style>\n",
       "    .dataframe thead tr:only-child th {\n",
       "        text-align: right;\n",
       "    }\n",
       "\n",
       "    .dataframe thead th {\n",
       "        text-align: left;\n",
       "    }\n",
       "\n",
       "    .dataframe tbody tr th {\n",
       "        vertical-align: top;\n",
       "    }\n",
       "</style>\n",
       "<table border=\"1\" class=\"dataframe\">\n",
       "  <thead>\n",
       "    <tr style=\"text-align: right;\">\n",
       "      <th></th>\n",
       "      <th>id</th>\n",
       "      <th>key</th>\n",
       "      <th>value</th>\n",
       "      <th>type</th>\n",
       "    </tr>\n",
       "  </thead>\n",
       "  <tbody>\n",
       "    <tr>\n",
       "      <th>49828</th>\n",
       "      <td>4273252219</td>\n",
       "      <td>street</td>\n",
       "      <td>Grabarska</td>\n",
       "      <td>addr</td>\n",
       "    </tr>\n",
       "    <tr>\n",
       "      <th>47071</th>\n",
       "      <td>3772479530</td>\n",
       "      <td>street</td>\n",
       "      <td>Plac Konstytucji 3 Maja</td>\n",
       "      <td>addr</td>\n",
       "    </tr>\n",
       "    <tr>\n",
       "      <th>49795</th>\n",
       "      <td>4264746322</td>\n",
       "      <td>street</td>\n",
       "      <td>Plac Konstytucji 3 Maja</td>\n",
       "      <td>addr</td>\n",
       "    </tr>\n",
       "  </tbody>\n",
       "</table>\n",
       "</div>"
      ],
      "text/plain": [
       "               id     key                    value  type\n",
       "49828  4273252219  street                Grabarska  addr\n",
       "47071  3772479530  street  Plac Konstytucji 3 Maja  addr\n",
       "49795  4264746322  street  Plac Konstytucji 3 Maja  addr"
      ]
     },
     "execution_count": 10,
     "metadata": {},
     "output_type": "execute_result"
    }
   ],
   "source": [
    "pd.concat([nodes_tags[nodes_tags.value == \"Grabarska\"],\n",
    "          nodes_tags[nodes_tags.value == \"Plac Konstytucji 3 Maja\"]])"
   ]
  },
  {
   "cell_type": "code",
   "execution_count": 11,
   "metadata": {
    "collapsed": true
   },
   "outputs": [],
   "source": [
    "ways_tags_street= pd.DataFrame(ways_tags[ways_tags.key==\"street\"])"
   ]
  },
  {
   "cell_type": "code",
   "execution_count": 12,
   "metadata": {
    "collapsed": true
   },
   "outputs": [],
   "source": [
    "ways_tags_sym_ul = pd.DataFrame(ways_tags[ways_tags.key==\"street:sym_ul\"])"
   ]
  },
  {
   "cell_type": "code",
   "execution_count": 13,
   "metadata": {
    "collapsed": true
   },
   "outputs": [],
   "source": [
    "for num, i in zip(ways_tags_street.index, ways_tags_street.id):\n",
    "    checker = 0\n",
    "    for num_sec, j in zip(ways_tags_sym_ul.index, ways_tags_sym_ul.id):\n",
    "        if i == j:\n",
    "            street_code[ways_tags_street.get_value(num, \"value\")] = ways_tags_sym_ul.get_value(num_sec, \"value\")\n",
    "            checker = 1\n",
    "            break\n",
    "            \n",
    "    if checker:\n",
    "        continue\n",
    "    weirds.append(ways_tags_street.get_value(num, \"value\"))"
   ]
  },
  {
   "cell_type": "code",
   "execution_count": 15,
   "metadata": {
    "scrolled": true
   },
   "outputs": [
    {
     "name": "stdout",
     "output_type": "stream",
     "text": [
      "Grabarska\n",
      "Adama Mickiewicza\n",
      "Na Niskich Łąkach\n",
      "Grabarska\n"
     ]
    }
   ],
   "source": [
    "for i in weirds:\n",
    "    try: \n",
    "        street_code[i]\n",
    "    except KeyError:\n",
    "        print(i)"
   ]
  },
  {
   "cell_type": "code",
   "execution_count": 16,
   "metadata": {
    "scrolled": true
   },
   "outputs": [
    {
     "data": {
      "text/html": [
       "<div>\n",
       "<style>\n",
       "    .dataframe thead tr:only-child th {\n",
       "        text-align: right;\n",
       "    }\n",
       "\n",
       "    .dataframe thead th {\n",
       "        text-align: left;\n",
       "    }\n",
       "\n",
       "    .dataframe tbody tr th {\n",
       "        vertical-align: top;\n",
       "    }\n",
       "</style>\n",
       "<table border=\"1\" class=\"dataframe\">\n",
       "  <thead>\n",
       "    <tr style=\"text-align: right;\">\n",
       "      <th></th>\n",
       "      <th>id</th>\n",
       "      <th>key</th>\n",
       "      <th>value</th>\n",
       "      <th>type</th>\n",
       "    </tr>\n",
       "  </thead>\n",
       "  <tbody>\n",
       "    <tr>\n",
       "      <th>49828</th>\n",
       "      <td>4273252219</td>\n",
       "      <td>street</td>\n",
       "      <td>Grabarska</td>\n",
       "      <td>addr</td>\n",
       "    </tr>\n",
       "    <tr>\n",
       "      <th>47071</th>\n",
       "      <td>3772479530</td>\n",
       "      <td>street</td>\n",
       "      <td>Plac Konstytucji 3 Maja</td>\n",
       "      <td>addr</td>\n",
       "    </tr>\n",
       "    <tr>\n",
       "      <th>49795</th>\n",
       "      <td>4264746322</td>\n",
       "      <td>street</td>\n",
       "      <td>Plac Konstytucji 3 Maja</td>\n",
       "      <td>addr</td>\n",
       "    </tr>\n",
       "  </tbody>\n",
       "</table>\n",
       "</div>"
      ],
      "text/plain": [
       "               id     key                    value  type\n",
       "49828  4273252219  street                Grabarska  addr\n",
       "47071  3772479530  street  Plac Konstytucji 3 Maja  addr\n",
       "49795  4264746322  street  Plac Konstytucji 3 Maja  addr"
      ]
     },
     "execution_count": 16,
     "metadata": {},
     "output_type": "execute_result"
    }
   ],
   "source": [
    "pd.concat([nodes_tags[nodes_tags.value == \"Grabarska\"],\n",
    "          nodes_tags[nodes_tags.value == \"Plac Konstytucji 3 Maja\"]])"
   ]
  },
  {
   "cell_type": "markdown",
   "metadata": {},
   "source": [
    "### Exploring phase"
   ]
  },
  {
   "cell_type": "markdown",
   "metadata": {},
   "source": [
    "\n",
    "\n"
   ]
  },
  {
   "cell_type": "markdown",
   "metadata": {},
   "source": [
    "Let's check number of kindergarden in the neighbourhood."
   ]
  },
  {
   "cell_type": "markdown",
   "metadata": {
    "code_folding": []
   },
   "source": [
    "```\n",
    "sqlite> select *  from nodes_tags WHERE key = \"amenity\" AND value LIKE \"k%\";\n",
    "```\n",
    "\n",
    "```\n",
    "1168111478,amenity,kindergarten,regular\n",
    "1200503957,amenity,kindergarten,regular\n",
    "1375026875,amenity,kindergarten,regular\n",
    "3834091857,amenity,kindergarten,regular\n",
    "5016353990,amenity,kindergarten,regular\n",
    "```"
   ]
  },
  {
   "cell_type": "markdown",
   "metadata": {
    "code_folding": []
   },
   "source": [
    "```\n",
    "sqlite> select *  from nodes_tags WHERE key = \"amenity\" AND value LIKE \"fast_food\";\n",
    "```\n",
    "\n",
    "```\n",
    "87\n",
    "```"
   ]
  },
  {
   "cell_type": "markdown",
   "metadata": {},
   "source": [
    "It is not good place for my kid. "
   ]
  },
  {
   "cell_type": "markdown",
   "metadata": {
    "code_folding": []
   },
   "source": [
    "```\n",
    "sqlite> select *  from nodes_tags WHERE key = \"amenity\" AND value LIKE \"k%\";\n",
    "```\n",
    "```\n",
    "1168111478,amenity,kindergarten,regular\n",
    "1200503957,amenity,kindergarten,regular\n",
    "1375026875,amenity,kindergarten,regular\n",
    "3834091857,amenity,kindergarten,regular\n",
    "5016353990,amenity,kindergarten,regular\n",
    "```"
   ]
  },
  {
   "cell_type": "markdown",
   "metadata": {},
   "source": [
    "# Overview of the Data"
   ]
  },
  {
   "cell_type": "code",
   "execution_count": null,
   "metadata": {
    "collapsed": true
   },
   "outputs": [],
   "source": []
  },
  {
   "cell_type": "markdown",
   "metadata": {},
   "source": [
    "# OSM to CSV convertion"
   ]
  },
  {
   "cell_type": "markdown",
   "metadata": {},
   "source": [
    "# SQL section"
   ]
  },
  {
   "cell_type": "code",
   "execution_count": 11,
   "metadata": {
    "collapsed": true
   },
   "outputs": [],
   "source": [
    "pattern = re.compile(\"(.+)[a-zA-Z]{1}(.+)[a-zA-Z]{1}\")"
   ]
  },
  {
   "cell_type": "code",
   "execution_count": 12,
   "metadata": {
    "collapsed": true
   },
   "outputs": [],
   "source": [
    "word =\"2017-08-24T09:35:12Z\""
   ]
  },
  {
   "cell_type": "code",
   "execution_count": 13,
   "metadata": {},
   "outputs": [
    {
     "data": {
      "text/plain": [
       "[('2017-08-24', '09:35:12')]"
      ]
     },
     "execution_count": 13,
     "metadata": {},
     "output_type": "execute_result"
    }
   ],
   "source": [
    "pattern.findall(word)"
   ]
  },
  {
   "cell_type": "code",
   "execution_count": 19,
   "metadata": {
    "collapsed": true
   },
   "outputs": [],
   "source": []
  },
  {
   "cell_type": "markdown",
   "metadata": {
    "collapsed": true
   },
   "source": [
    "# Other ideas about the datasets"
   ]
  },
  {
   "cell_type": "code",
   "execution_count": null,
   "metadata": {
    "collapsed": true
   },
   "outputs": [],
   "source": []
  },
  {
   "cell_type": "markdown",
   "metadata": {},
   "source": [
    "# Literature"
   ]
  },
  {
   "cell_type": "markdown",
   "metadata": {},
   "source": [
    "1. On Wrocław https://en.wikipedia.org/wiki/Wroc%C5%82aw"
   ]
  },
  {
   "cell_type": "code",
   "execution_count": null,
   "metadata": {
    "collapsed": true
   },
   "outputs": [],
   "source": []
  }
 ],
 "metadata": {
  "kernelspec": {
   "display_name": "Python 3",
   "language": "python",
   "name": "python3"
  },
  "language_info": {
   "codemirror_mode": {
    "name": "ipython",
    "version": 3
   },
   "file_extension": ".py",
   "mimetype": "text/x-python",
   "name": "python",
   "nbconvert_exporter": "python",
   "pygments_lexer": "ipython3",
   "version": "3.5.2"
  },
  "toc": {
   "nav_menu": {},
   "number_sections": true,
   "sideBar": true,
   "skip_h1_title": false,
   "toc_cell": true,
   "toc_position": {},
   "toc_section_display": "block",
   "toc_window_display": false
  }
 },
 "nbformat": 4,
 "nbformat_minor": 2
}
