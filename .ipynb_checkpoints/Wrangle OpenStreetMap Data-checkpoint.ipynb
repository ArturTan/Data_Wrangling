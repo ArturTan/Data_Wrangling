{
 "cells": [
  {
   "cell_type": "markdown",
   "metadata": {
    "toc": true
   },
   "source": [
    "<h1>Table of Contents<span class=\"tocSkip\"></span></h1>\n",
    "<div class=\"toc\" style=\"margin-top: 1em;\"><ul class=\"toc-item\"><li><span><a href=\"#Introduction-with-conclusions\" data-toc-modified-id=\"Introduction-with-conclusions-1\"><span class=\"toc-item-num\">1&nbsp;&nbsp;</span>Introduction with conclusions</a></span></li><li><span><a href=\"#Problems-encountered-in-your-map\" data-toc-modified-id=\"Problems-encountered-in-your-map-2\"><span class=\"toc-item-num\">2&nbsp;&nbsp;</span>Problems encountered in your map</a></span><ul class=\"toc-item\"><li><span><a href=\"#SYM_UL-for-every-street\" data-toc-modified-id=\"SYM_UL-for-every-street-2.1\"><span class=\"toc-item-num\">2.1&nbsp;&nbsp;</span>SYM_UL for every street</a></span></li><li><span><a href=\"#Data-importer-based-on-the-sqlite3-python-library---&quot;csv_to_sql.py&quot;\" data-toc-modified-id=\"Data-importer-based-on-the-sqlite3-python-library---&quot;csv_to_sql.py&quot;-2.2\"><span class=\"toc-item-num\">2.2&nbsp;&nbsp;</span>Data importer based on the sqlite3 python library - \"<code>csv_to_sql.py</code>\"</a></span></li><li><span><a href=\"#&quot;version&quot;-tag-as-the-integer---versionchecker.py\" data-toc-modified-id=\"&quot;version&quot;-tag-as-the-integer---versionchecker.py-2.3\"><span class=\"toc-item-num\">2.3&nbsp;&nbsp;</span>\"version\" tag as the integer - <code>versionchecker.py</code></a></span></li></ul></li><li><span><a href=\"#Overview-of-the-Data\" data-toc-modified-id=\"Overview-of-the-Data-3\"><span class=\"toc-item-num\">3&nbsp;&nbsp;</span>Overview of the Data</a></span><ul class=\"toc-item\"><li><span><a href=\"#Counting-tags\" data-toc-modified-id=\"Counting-tags-3.1\"><span class=\"toc-item-num\">3.1&nbsp;&nbsp;</span>Counting tags</a></span></li><li><span><a href=\"#Counting-users\" data-toc-modified-id=\"Counting-users-3.2\"><span class=\"toc-item-num\">3.2&nbsp;&nbsp;</span>Counting users</a></span></li><li><span><a href=\"#Counting-number-of-kindergardens-/-schools\" data-toc-modified-id=\"Counting-number-of-kindergardens-/-schools-3.3\"><span class=\"toc-item-num\">3.3&nbsp;&nbsp;</span>Counting number of kindergardens / schools</a></span></li><li><span><a href=\"#Time-of-actualization\" data-toc-modified-id=\"Time-of-actualization-3.4\"><span class=\"toc-item-num\">3.4&nbsp;&nbsp;</span>Time of actualization</a></span></li></ul></li><li><span><a href=\"#Literature\" data-toc-modified-id=\"Literature-4\"><span class=\"toc-item-num\">4&nbsp;&nbsp;</span>Literature</a></span></li></ul></div>"
   ]
  },
  {
   "cell_type": "code",
   "execution_count": 7,
   "metadata": {
    "collapsed": false
   },
   "outputs": [],
   "source": [
    "import sys\n",
    "\n",
    "sys.path.append('/data')\n",
    "\n",
    "\n",
    "import xml.etree.ElementTree as ET\n",
    "import os\n",
    "import re\n",
    "import pyprind\n",
    "import sqlite3\n",
    "import pandas as pd\n",
    "import matplotlib.pyplot as plt\n",
    "\n",
    "\n",
    "from scripts import osmcsv\n",
    "from collections import defaultdict\n",
    "from __future__ import division\n",
    "from scripts.tablecreator import table_creator as table_creator\n",
    "%matplotlib inline\n",
    "\n",
    "# Setting file\n",
    "wroclaw = '../wroclaw'"
   ]
  },
  {
   "cell_type": "markdown",
   "metadata": {},
   "source": [
    "# Introduction with conclusions"
   ]
  },
  {
   "cell_type": "markdown",
   "metadata": {},
   "source": [
    "Wrocław (Wroclaw) is a city with in Poland where I live. It is one of the fastest growing cities in Poland economically as well as in the size aspect: city authorities are increasing expenses on the infrastructure  annualy and therefore Wrocław have a lot of building or modernization sites. This concern also streets - as the Wroclaw citizen should be up-to-date with the information on the streets currently being renovated and possible traffics that could be met  on the way to school or to work. "
   ]
  },
  {
   "cell_type": "markdown",
   "metadata": {},
   "source": [
    "<img src=\"./data/wroclaw.jpg\">\n",
    "<center>[Source: Vogue, https://www.vogue.com/article/wroclaw-poland-travel-guide-under-the-radar]</center>"
   ]
  },
  {
   "cell_type": "markdown",
   "metadata": {
    "collapsed": true
   },
   "source": [
    "<img src=\"https://map.viamichelin.com/map/carte?map=viamichelin&z=10&lat=51.11049&lon=17.02582&width=550&height=382&format=png&version=latest&layer=background&debug_pattern=.*\">"
   ]
  },
  {
   "cell_type": "markdown",
   "metadata": {},
   "source": [
    "<center>[Source: ViaMichelin]</center>"
   ]
  },
  {
   "cell_type": "markdown",
   "metadata": {},
   "source": [
    "Problems encountered and solution thereto:\n",
    "\n",
    "1. In the Polish OSM we have another tag attribute (\"SYM_UL\"), a unique number assigned to the each street in the particular. I have found that in my OSM there are three streets without such information, so I filled this lack and create second table mapping street names and separate codes. \n",
    "2. Due to the problem with importing data from csv files (nodes.csv, ways.csv), I have created an own importer based on the sqlite3 python library. \n",
    "2. Due to the ensure consistency between Python schema and SQL schema I have pointed \"version\" tag as the integer in Python schema. \n",
    "\n",
    "Questions asked:\n",
    "\n",
    "1. As the open source fan, I wonder how many users participate in the creation of the map. \n",
    "2. Due to the application OSM as the GPS backend I would like to see whether it is not outdated.\n",
    "2. Due to having kids and considering moving from Wroclaw - how many kindedrgardens my child may go to in the future. "
   ]
  },
  {
   "cell_type": "markdown",
   "metadata": {},
   "source": [
    "#  Problems encountered in your map"
   ]
  },
  {
   "cell_type": "markdown",
   "metadata": {},
   "source": [
    "## SYM_UL for every street"
   ]
  },
  {
   "cell_type": "markdown",
   "metadata": {},
   "source": [
    "We could see that most frequent tags in the nodes tags table are following:"
   ]
  },
  {
   "cell_type": "code",
   "execution_count": 8,
   "metadata": {
    "collapsed": true
   },
   "outputs": [],
   "source": [
    "%load_ext sql"
   ]
  },
  {
   "cell_type": "code",
   "execution_count": 9,
   "metadata": {
    "collapsed": false,
    "scrolled": true
   },
   "outputs": [
    {
     "data": {
      "text/plain": [
       "'Connected: None@data/test.db'"
      ]
     },
     "execution_count": 9,
     "metadata": {},
     "output_type": "execute_result"
    }
   ],
   "source": [
    "%sql sqlite:///data/test.db"
   ]
  },
  {
   "cell_type": "code",
   "execution_count": 10,
   "metadata": {
    "collapsed": false
   },
   "outputs": [
    {
     "name": "stdout",
     "output_type": "stream",
     "text": [
      "Done.\n"
     ]
    },
    {
     "data": {
      "text/html": [
       "<table>\n",
       "    <tr>\n",
       "        <th>key</th>\n",
       "        <th>COUNT (key)</th>\n",
       "    </tr>\n",
       "    <tr>\n",
       "        <td>height</td>\n",
       "        <td>23177</td>\n",
       "    </tr>\n",
       "    <tr>\n",
       "        <td>OBJECTID_height_lidar</td>\n",
       "        <td>11469</td>\n",
       "    </tr>\n",
       "    <tr>\n",
       "        <td>street</td>\n",
       "        <td>4765</td>\n",
       "    </tr>\n",
       "    <tr>\n",
       "        <td>housenumber</td>\n",
       "        <td>4740</td>\n",
       "    </tr>\n",
       "    <tr>\n",
       "        <td>city</td>\n",
       "        <td>4698</td>\n",
       "    </tr>\n",
       "    <tr>\n",
       "        <td>postcode</td>\n",
       "        <td>4546</td>\n",
       "    </tr>\n",
       "    <tr>\n",
       "        <td>street:sym_ul</td>\n",
       "        <td>4266</td>\n",
       "    </tr>\n",
       "    <tr>\n",
       "        <td>country</td>\n",
       "        <td>3892</td>\n",
       "    </tr>\n",
       "    <tr>\n",
       "        <td>name</td>\n",
       "        <td>2886</td>\n",
       "    </tr>\n",
       "    <tr>\n",
       "        <td>highway</td>\n",
       "        <td>1911</td>\n",
       "    </tr>\n",
       "</table>"
      ],
      "text/plain": [
       "[('height', 23177),\n",
       " ('OBJECTID_height_lidar', 11469),\n",
       " ('street', 4765),\n",
       " ('housenumber', 4740),\n",
       " ('city', 4698),\n",
       " ('postcode', 4546),\n",
       " ('street:sym_ul', 4266),\n",
       " ('country', 3892),\n",
       " ('name', 2886),\n",
       " ('highway', 1911)]"
      ]
     },
     "execution_count": 10,
     "metadata": {},
     "output_type": "execute_result"
    }
   ],
   "source": [
    "%%sql \n",
    "SELECT key, COUNT (key) \n",
    "  FROM  nodes_tags \n",
    " GROUP BY key \n",
    " ORDER by count(key) \n",
    "  DESC LIMIT 10;"
   ]
  },
  {
   "cell_type": "markdown",
   "metadata": {},
   "source": [
    "From the above we could see that  there are 4765 street tags, however \"sym_ul\" have 4266 positions. \n",
    "\n",
    "What is interesting in the Polish section there is a unique key addded to each street (\"street: sym_ul\"). As you are probably  an English speaking reader you may google translate this thread: https://forum.openstreetmap.org/viewtopic.php?id=59111 or here https://wiki.openstreetmap.org/wiki/Talk:Pl:Importy/Adresy. \n",
    "\n",
    "Unfortunately this tag is not documented in English. Sym_ul is the id added by users on basis of the registry by the Polish National Statistical Office. \n",
    "\n",
    "Let's check how many unique streets we have in the nodes_tags table and how many unique \"sym_ul\" tags we have therein too. "
   ]
  },
  {
   "cell_type": "code",
   "execution_count": 7,
   "metadata": {
    "collapsed": false
   },
   "outputs": [
    {
     "name": "stdout",
     "output_type": "stream",
     "text": [
      "(sqlite3.OperationalError) near \")\": syntax error [SQL: 'CREATE VIEW streets AS\\n     SELECT value \\n       FROM nodes_tags\\n      WHERE key = \"street\"\\n      UNION SELECT value\\n       FROM ways_tags\\n      WHERE key = \"street\"\\n      GROUP BY value);']\n"
     ]
    }
   ],
   "source": [
    "%%sql\n",
    "CREATE VIEW streets AS\n",
    "     SELECT value \n",
    "       FROM nodes_tags\n",
    "      WHERE key = \"street\"\n",
    "      UNION SELECT value\n",
    "       FROM ways_tags\n",
    "      WHERE key = \"street\"\n",
    "      GROUP BY value);"
   ]
  },
  {
   "cell_type": "code",
   "execution_count": 8,
   "metadata": {
    "collapsed": false
   },
   "outputs": [
    {
     "name": "stdout",
     "output_type": "stream",
     "text": [
      "Done.\n"
     ]
    },
    {
     "data": {
      "text/html": [
       "<table>\n",
       "    <tr>\n",
       "        <th>Total number fo streets</th>\n",
       "    </tr>\n",
       "    <tr>\n",
       "        <td>292</td>\n",
       "    </tr>\n",
       "</table>"
      ],
      "text/plain": [
       "[(292,)]"
      ]
     },
     "execution_count": 8,
     "metadata": {},
     "output_type": "execute_result"
    }
   ],
   "source": [
    "%%sql\n",
    "SELECT COUNT(*) as \"Total number fo streets\"\n",
    "FROM \n",
    "    (SELECT value \n",
    "       FROM nodes_tags\n",
    "      WHERE key = \"street\"\n",
    "      UNION SELECT value\n",
    "       FROM ways_tags\n",
    "      WHERE key = \"street\"\n",
    "      GROUP BY value);"
   ]
  },
  {
   "cell_type": "code",
   "execution_count": 9,
   "metadata": {
    "collapsed": false
   },
   "outputs": [
    {
     "name": "stdout",
     "output_type": "stream",
     "text": [
      "Done.\n"
     ]
    },
    {
     "data": {
      "text/html": [
       "<table>\n",
       "    <tr>\n",
       "        <th>Total number of sym_ul tags</th>\n",
       "    </tr>\n",
       "    <tr>\n",
       "        <td>290</td>\n",
       "    </tr>\n",
       "</table>"
      ],
      "text/plain": [
       "[(290,)]"
      ]
     },
     "execution_count": 9,
     "metadata": {},
     "output_type": "execute_result"
    }
   ],
   "source": [
    "%%sql\n",
    "SELECT COUNT(*) AS \"Total number of sym_ul tags\" \n",
    " FROM \n",
    "    (SELECT value \n",
    "       FROM nodes_tags\n",
    "      WHERE key = \"street:sym_ul\"\n",
    "      UNION SELECT value\n",
    "       FROM ways_tags\n",
    "      WHERE key = \"street:sym_ul\"\n",
    "      GROUP BY value);\n",
    "\n"
   ]
  },
  {
   "cell_type": "markdown",
   "metadata": {},
   "source": [
    "Then - after making investigation the entire dataset (so also the ways_tags with the streetmapping file we could find that the following streets have got no \"sym_ul\" tags: \n",
    "1. Grabarska\n",
    "2. Adama Mickiewicza\n",
    "3. Na Niskich Łąkach\n",
    "\n",
    "I have changed it basing on the official base (http://eteryt.stat.gov.pl/eTeryt/rejestr_teryt/udostepnianie_danych/baza_teryt/uzytkownicy_indywidualni/wyszukiwanie/wyszukiwanie.aspx?contrast=default) \n",
    "\n",
    "I have also created the table which enable the database user to assign street codes with the street name (\"```streetmapping.csv```\") with the following SQL equivalent: "
   ]
  },
  {
   "cell_type": "markdown",
   "metadata": {},
   "source": [
    "## Data importer based on the sqlite3 python library - \"```csv_to_sql.py```\""
   ]
  },
  {
   "cell_type": "markdown",
   "metadata": {},
   "source": [
    "After importing data to csv I have found some issues:\n",
    "\n",
    "```nodes.csv:253769: INSERT failed: UNIQUE constraint failed: nodes.id```\n",
    "\n"
   ]
  },
  {
   "cell_type": "markdown",
   "metadata": {},
   "source": [
    "We will check it manually during uploading each node separately from node.csv into the sqlite3. Please find below an exemplary chunk fo the code: "
   ]
  },
  {
   "cell_type": "code",
   "execution_count": 183,
   "metadata": {
    "collapsed": true
   },
   "outputs": [],
   "source": [
    "for num, i in enumerate(range(nodes.shape[0])):\n",
    "    id_key, lat, lon, user, uid, version, changeset, timestamp = nodes.iloc[i]\n",
    "\n",
    "    c.execute('''INSERT INTO nodes \n",
    "                (id, lat, lon, user, uid, version, changeset, timestamp)\n",
    "        VALUES ({},{},{},'{}',{},{},{},'{}')'''.format(id_key, \n",
    "                                                   lat, \n",
    "                                                   lon, \n",
    "                                                   user, \n",
    "                                                   uid, \n",
    "                                                   version, \n",
    "                                                   changeset, \n",
    "                                                   timestamp)\n",
    "         )\n",
    "    \n",
    "conn.commit()\n",
    "conn.close()"
   ]
  },
  {
   "cell_type": "markdown",
   "metadata": {},
   "source": [
    "After applying the script \"```csv_to_sql.py```\" I have not encountered any errors. __During merging data from one source to another  (in our case from csv to sql) some errors can occur that could be  ommitted by another API. Here we have ommitted this error through applying the python script what spare our time __"
   ]
  },
  {
   "cell_type": "markdown",
   "metadata": {},
   "source": [
    "##  \"version\" tag as the integer - ```versionchecker.py```"
   ]
  },
  {
   "cell_type": "markdown",
   "metadata": {},
   "source": [
    "From the original schema we have:"
   ]
  },
  {
   "cell_type": "code",
   "execution_count": null,
   "metadata": {
    "collapsed": true
   },
   "outputs": [],
   "source": [
    "table_creator = \"\"\"CREATE TABLE nodes (\n",
    "    id INTEGER PRIMARY KEY NOT NULL,\n",
    "    lat REAL,\n",
    "    lon REAL,\n",
    "    user TEXT,\n",
    "    uid INTEGER,\n",
    "    version INTEGER,\n",
    "    changeset INTEGER,\n",
    "    timestamp TEXT\n",
    ");"
   ]
  },
  {
   "cell_type": "markdown",
   "metadata": {},
   "source": [
    "In the pythonic way"
   ]
  },
  {
   "cell_type": "markdown",
   "metadata": {},
   "source": [
    "Name | Type of data SQL | Type of data python \n",
    ":-:|-|-\n",
    "id| integer | int [primary key]\n",
    "lat | REAL | float\n",
    "lon | REAL | float\n",
    "user | TEXT | int\n",
    "uid | INTEGER | int\n",
    "version | INTEGER | int\n",
    "changeset | INTEGER | int\n",
    "timestamp | TEXT | string\n"
   ]
  },
  {
   "cell_type": "markdown",
   "metadata": {},
   "source": [
    "In the file schema we have however:\n",
    "\n",
    "```'version': {'required': True, 'type': 'string'},```"
   ]
  },
  {
   "cell_type": "markdown",
   "metadata": {},
   "source": [
    "What is inconsistent with the integer type, let's try to convert the string to int:"
   ]
  },
  {
   "cell_type": "code",
   "execution_count": 2,
   "metadata": {
    "collapsed": false
   },
   "outputs": [
    {
     "name": "stdout",
     "output_type": "stream",
     "text": [
      "Any errors have occured\n"
     ]
    }
   ],
   "source": [
    "def version_checker(filename):\n",
    "    for _, elem in ET.iterparse(filename):\n",
    "        if elem.tag == \"node\":\n",
    "            try:\n",
    "                int(elem.attrib[\"version\"])\n",
    "            except ValueError:\n",
    "                print(\"There is a piece of data that cannot be converted to the integer\")\n",
    "                break\n",
    "    print(\"Any errors have occured\")\n",
    "                \n",
    "version_checker(wroclaw)"
   ]
  },
  {
   "cell_type": "markdown",
   "metadata": {},
   "source": [
    "Thus, Python is able to convert it to the integer so I have updated schema with:\n",
    "\n",
    "```'version': {'required': True, 'type': 'string'},```\n",
    "\n"
   ]
  },
  {
   "cell_type": "markdown",
   "metadata": {},
   "source": [
    "# Overview of the Data"
   ]
  },
  {
   "cell_type": "markdown",
   "metadata": {},
   "source": [
    "## Counting tags"
   ]
  },
  {
   "cell_type": "code",
   "execution_count": 2,
   "metadata": {
    "collapsed": true
   },
   "outputs": [],
   "source": [
    "def count_tags(filename):\n",
    "    tags = defaultdict(lambda: 0)\n",
    "    for i in ET.iterparse(filename):\n",
    "        tags[i[1].tag] += 1\n",
    "    return tags"
   ]
  },
  {
   "cell_type": "code",
   "execution_count": 3,
   "metadata": {
    "collapsed": true
   },
   "outputs": [],
   "source": [
    "tags = count_tags(wroclaw)"
   ]
  },
  {
   "cell_type": "code",
   "execution_count": 7,
   "metadata": {
    "collapsed": false,
    "scrolled": false
   },
   "outputs": [
    {
     "data": {
      "text/html": [
       "<div>\n",
       "<style>\n",
       "    .dataframe thead tr:only-child th {\n",
       "        text-align: right;\n",
       "    }\n",
       "\n",
       "    .dataframe thead th {\n",
       "        text-align: left;\n",
       "    }\n",
       "\n",
       "    .dataframe tbody tr th {\n",
       "        vertical-align: top;\n",
       "    }\n",
       "</style>\n",
       "<table border=\"1\" class=\"dataframe\">\n",
       "  <thead>\n",
       "    <tr style=\"text-align: right;\">\n",
       "      <th></th>\n",
       "      <th>Number of elements</th>\n",
       "    </tr>\n",
       "  </thead>\n",
       "  <tbody>\n",
       "    <tr>\n",
       "      <th>way</th>\n",
       "      <td>39294</td>\n",
       "    </tr>\n",
       "    <tr>\n",
       "      <th>member</th>\n",
       "      <td>68743</td>\n",
       "    </tr>\n",
       "    <tr>\n",
       "      <th>osm</th>\n",
       "      <td>1</td>\n",
       "    </tr>\n",
       "    <tr>\n",
       "      <th>note</th>\n",
       "      <td>1</td>\n",
       "    </tr>\n",
       "    <tr>\n",
       "      <th>tag</th>\n",
       "      <td>214770</td>\n",
       "    </tr>\n",
       "    <tr>\n",
       "      <th>bounds</th>\n",
       "      <td>1</td>\n",
       "    </tr>\n",
       "    <tr>\n",
       "      <th>nd</th>\n",
       "      <td>360671</td>\n",
       "    </tr>\n",
       "    <tr>\n",
       "      <th>node</th>\n",
       "      <td>253769</td>\n",
       "    </tr>\n",
       "    <tr>\n",
       "      <th>meta</th>\n",
       "      <td>1</td>\n",
       "    </tr>\n",
       "    <tr>\n",
       "      <th>relation</th>\n",
       "      <td>1290</td>\n",
       "    </tr>\n",
       "  </tbody>\n",
       "</table>\n",
       "</div>"
      ],
      "text/plain": [
       "          Number of elements\n",
       "way                    39294\n",
       "member                 68743\n",
       "osm                        1\n",
       "note                       1\n",
       "tag                   214770\n",
       "bounds                     1\n",
       "nd                    360671\n",
       "node                  253769\n",
       "meta                       1\n",
       "relation                1290"
      ]
     },
     "execution_count": 7,
     "metadata": {},
     "output_type": "execute_result"
    }
   ],
   "source": [
    "tag_summary = pd.DataFrame.from_dict(tags, orient='index')\n",
    "tag_summary.columns = [\"Number of elements\"]\n",
    "tag_summary"
   ]
  },
  {
   "cell_type": "markdown",
   "metadata": {},
   "source": [
    "## Counting users"
   ]
  },
  {
   "cell_type": "code",
   "execution_count": 12,
   "metadata": {
    "collapsed": false,
    "scrolled": true
   },
   "outputs": [
    {
     "name": "stdout",
     "output_type": "stream",
     "text": [
      "0 rows affected.\n",
      "Done.\n"
     ]
    },
    {
     "data": {
      "text/html": [
       "<table>\n",
       "    <tr>\n",
       "        <th>user</th>\n",
       "        <th>COUNT(*)</th>\n",
       "    </tr>\n",
       "    <tr>\n",
       "        <td>rowers2</td>\n",
       "        <td>112861</td>\n",
       "    </tr>\n",
       "    <tr>\n",
       "        <td>lms</td>\n",
       "        <td>74278</td>\n",
       "    </tr>\n",
       "    <tr>\n",
       "        <td>maraf24</td>\n",
       "        <td>70277</td>\n",
       "    </tr>\n",
       "    <tr>\n",
       "        <td>Ancymon</td>\n",
       "        <td>7109</td>\n",
       "    </tr>\n",
       "    <tr>\n",
       "        <td>psboypl</td>\n",
       "        <td>5717</td>\n",
       "    </tr>\n",
       "    <tr>\n",
       "        <td>Nolan Proost</td>\n",
       "        <td>2205</td>\n",
       "    </tr>\n",
       "    <tr>\n",
       "        <td>mrIimbsf</td>\n",
       "        <td>2176</td>\n",
       "    </tr>\n",
       "    <tr>\n",
       "        <td>Zmianowy</td>\n",
       "        <td>2174</td>\n",
       "    </tr>\n",
       "    <tr>\n",
       "        <td>marek kleciak</td>\n",
       "        <td>1948</td>\n",
       "    </tr>\n",
       "    <tr>\n",
       "        <td>one_half_3544</td>\n",
       "        <td>940</td>\n",
       "    </tr>\n",
       "</table>"
      ],
      "text/plain": [
       "[('rowers2', 112861),\n",
       " ('lms', 74278),\n",
       " ('maraf24', 70277),\n",
       " ('Ancymon', 7109),\n",
       " ('psboypl', 5717),\n",
       " ('Nolan Proost', 2205),\n",
       " ('mrIimbsf', 2176),\n",
       " ('Zmianowy', 2174),\n",
       " ('marek kleciak', 1948),\n",
       " ('one_half_3544', 940)]"
      ]
     },
     "execution_count": 12,
     "metadata": {},
     "output_type": "execute_result"
    }
   ],
   "source": [
    "%%sql\n",
    "CREATE VIEW users AS \n",
    "SELECT user AS user \n",
    "FROM nodes \n",
    "UNION ALL\n",
    "SELECT user as user FROM ways;\n",
    "\n",
    "SELECT user, COUNT(*) FROM users \n",
    " GROUP BY user \n",
    " ORDER BY count(*) \n",
    " DESC LIMIT 10;\n"
   ]
  },
  {
   "cell_type": "markdown",
   "metadata": {},
   "source": [
    "There are three guys that created more than 250000 elements! "
   ]
  },
  {
   "cell_type": "code",
   "execution_count": 14,
   "metadata": {
    "collapsed": false
   },
   "outputs": [
    {
     "name": "stdout",
     "output_type": "stream",
     "text": [
      "Done.\n"
     ]
    },
    {
     "data": {
      "text/html": [
       "<table>\n",
       "    <tr>\n",
       "        <th>No. of users</th>\n",
       "    </tr>\n",
       "    <tr>\n",
       "        <td>293063</td>\n",
       "    </tr>\n",
       "</table>"
      ],
      "text/plain": [
       "[(293063,)]"
      ]
     },
     "execution_count": 14,
     "metadata": {},
     "output_type": "execute_result"
    }
   ],
   "source": [
    "%%sql\n",
    "SELECT count(user) as \"No. of users\" FROM users;\n"
   ]
  },
  {
   "cell_type": "code",
   "execution_count": 34,
   "metadata": {
    "collapsed": false,
    "scrolled": true
   },
   "outputs": [
    {
     "data": {
      "text/plain": [
       "0.8783640377666235"
      ]
     },
     "execution_count": 34,
     "metadata": {},
     "output_type": "execute_result"
    }
   ],
   "source": [
    "(112861 + 74278 + 70277)/293063"
   ]
  },
  {
   "cell_type": "markdown",
   "metadata": {},
   "source": [
    "It is 88% of the elements! The dataset should be verified due to the fact that only three users created almost 88% of the  map. \n",
    "\n",
    "It could influence potentially negatively on the quality of the map -  when the map is not verified by more users it could cause error to GPS system using OSM. "
   ]
  },
  {
   "cell_type": "markdown",
   "metadata": {},
   "source": [
    "## Counting number of kindergardens / schools "
   ]
  },
  {
   "cell_type": "markdown",
   "metadata": {},
   "source": [
    "As I have mentioned due to the having a kid, it is important to assure him a proper education and chances for the best learning opportunities as well as to play. Let's check number of kindergardens and schools in the neighbourhood."
   ]
  },
  {
   "cell_type": "code",
   "execution_count": 15,
   "metadata": {
    "collapsed": false
   },
   "outputs": [
    {
     "name": "stdout",
     "output_type": "stream",
     "text": [
      "Done.\n"
     ]
    },
    {
     "data": {
      "text/html": [
       "<table>\n",
       "    <tr>\n",
       "        <th>id</th>\n",
       "        <th>key</th>\n",
       "        <th>value</th>\n",
       "        <th>type</th>\n",
       "    </tr>\n",
       "    <tr>\n",
       "        <td>1168111478</td>\n",
       "        <td>amenity</td>\n",
       "        <td>kindergarten</td>\n",
       "        <td>regular</td>\n",
       "    </tr>\n",
       "    <tr>\n",
       "        <td>1200435506</td>\n",
       "        <td>amenity</td>\n",
       "        <td>school</td>\n",
       "        <td>regular</td>\n",
       "    </tr>\n",
       "    <tr>\n",
       "        <td>1200503957</td>\n",
       "        <td>amenity</td>\n",
       "        <td>kindergarten</td>\n",
       "        <td>regular</td>\n",
       "    </tr>\n",
       "    <tr>\n",
       "        <td>1375026875</td>\n",
       "        <td>amenity</td>\n",
       "        <td>kindergarten</td>\n",
       "        <td>regular</td>\n",
       "    </tr>\n",
       "    <tr>\n",
       "        <td>2723841832</td>\n",
       "        <td>amenity</td>\n",
       "        <td>school</td>\n",
       "        <td>regular</td>\n",
       "    </tr>\n",
       "    <tr>\n",
       "        <td>2891586837</td>\n",
       "        <td>leisure</td>\n",
       "        <td>playground</td>\n",
       "        <td>regular</td>\n",
       "    </tr>\n",
       "    <tr>\n",
       "        <td>2892313551</td>\n",
       "        <td>amenity</td>\n",
       "        <td>school</td>\n",
       "        <td>regular</td>\n",
       "    </tr>\n",
       "    <tr>\n",
       "        <td>3479947758</td>\n",
       "        <td>amenity</td>\n",
       "        <td>school</td>\n",
       "        <td>regular</td>\n",
       "    </tr>\n",
       "    <tr>\n",
       "        <td>3479947759</td>\n",
       "        <td>amenity</td>\n",
       "        <td>school</td>\n",
       "        <td>regular</td>\n",
       "    </tr>\n",
       "    <tr>\n",
       "        <td>3479947760</td>\n",
       "        <td>amenity</td>\n",
       "        <td>school</td>\n",
       "        <td>regular</td>\n",
       "    </tr>\n",
       "    <tr>\n",
       "        <td>3631912693</td>\n",
       "        <td>leisure</td>\n",
       "        <td>playground</td>\n",
       "        <td>regular</td>\n",
       "    </tr>\n",
       "    <tr>\n",
       "        <td>3834091857</td>\n",
       "        <td>amenity</td>\n",
       "        <td>kindergarten</td>\n",
       "        <td>regular</td>\n",
       "    </tr>\n",
       "    <tr>\n",
       "        <td>3834091888</td>\n",
       "        <td>leisure</td>\n",
       "        <td>playground</td>\n",
       "        <td>regular</td>\n",
       "    </tr>\n",
       "    <tr>\n",
       "        <td>4038494407</td>\n",
       "        <td>leisure</td>\n",
       "        <td>playground</td>\n",
       "        <td>regular</td>\n",
       "    </tr>\n",
       "    <tr>\n",
       "        <td>4236636528</td>\n",
       "        <td>leisure</td>\n",
       "        <td>playground</td>\n",
       "        <td>regular</td>\n",
       "    </tr>\n",
       "    <tr>\n",
       "        <td>4304771139</td>\n",
       "        <td>amenity</td>\n",
       "        <td>school</td>\n",
       "        <td>regular</td>\n",
       "    </tr>\n",
       "    <tr>\n",
       "        <td>4304771140</td>\n",
       "        <td>amenity</td>\n",
       "        <td>school</td>\n",
       "        <td>regular</td>\n",
       "    </tr>\n",
       "    <tr>\n",
       "        <td>4510165642</td>\n",
       "        <td>leisure</td>\n",
       "        <td>playground</td>\n",
       "        <td>regular</td>\n",
       "    </tr>\n",
       "    <tr>\n",
       "        <td>4576149752</td>\n",
       "        <td>leisure</td>\n",
       "        <td>playground</td>\n",
       "        <td>regular</td>\n",
       "    </tr>\n",
       "    <tr>\n",
       "        <td>4842040803</td>\n",
       "        <td>leisure</td>\n",
       "        <td>playground</td>\n",
       "        <td>regular</td>\n",
       "    </tr>\n",
       "    <tr>\n",
       "        <td>4842040804</td>\n",
       "        <td>leisure</td>\n",
       "        <td>playground</td>\n",
       "        <td>regular</td>\n",
       "    </tr>\n",
       "    <tr>\n",
       "        <td>5016353990</td>\n",
       "        <td>amenity</td>\n",
       "        <td>kindergarten</td>\n",
       "        <td>regular</td>\n",
       "    </tr>\n",
       "    <tr>\n",
       "        <td>5043291339</td>\n",
       "        <td>leisure</td>\n",
       "        <td>playground</td>\n",
       "        <td>regular</td>\n",
       "    </tr>\n",
       "</table>"
      ],
      "text/plain": [
       "[(1168111478, 'amenity', 'kindergarten', 'regular'),\n",
       " (1200435506, 'amenity', 'school', 'regular'),\n",
       " (1200503957, 'amenity', 'kindergarten', 'regular'),\n",
       " (1375026875, 'amenity', 'kindergarten', 'regular'),\n",
       " (2723841832, 'amenity', 'school', 'regular'),\n",
       " (2891586837, 'leisure', 'playground', 'regular'),\n",
       " (2892313551, 'amenity', 'school', 'regular'),\n",
       " (3479947758, 'amenity', 'school', 'regular'),\n",
       " (3479947759, 'amenity', 'school', 'regular'),\n",
       " (3479947760, 'amenity', 'school', 'regular'),\n",
       " (3631912693, 'leisure', 'playground', 'regular'),\n",
       " (3834091857, 'amenity', 'kindergarten', 'regular'),\n",
       " (3834091888, 'leisure', 'playground', 'regular'),\n",
       " (4038494407, 'leisure', 'playground', 'regular'),\n",
       " (4236636528, 'leisure', 'playground', 'regular'),\n",
       " (4304771139, 'amenity', 'school', 'regular'),\n",
       " (4304771140, 'amenity', 'school', 'regular'),\n",
       " (4510165642, 'leisure', 'playground', 'regular'),\n",
       " (4576149752, 'leisure', 'playground', 'regular'),\n",
       " (4842040803, 'leisure', 'playground', 'regular'),\n",
       " (4842040804, 'leisure', 'playground', 'regular'),\n",
       " (5016353990, 'amenity', 'kindergarten', 'regular'),\n",
       " (5043291339, 'leisure', 'playground', 'regular')]"
      ]
     },
     "execution_count": 15,
     "metadata": {},
     "output_type": "execute_result"
    }
   ],
   "source": [
    "%%sql \n",
    "SELECT * \n",
    "  FROM nodes_tags \n",
    " WHERE key = \"amenity\" \n",
    "   AND value LIKE \"kindergarten\" \n",
    "    OR value LIKE \"school\"\n",
    "    OR value LIKE \"playground\";"
   ]
  },
  {
   "cell_type": "markdown",
   "metadata": {},
   "source": [
    "This value is however too small as for the Wrocław. According to this site, the total number of schools is "
   ]
  },
  {
   "cell_type": "code",
   "execution_count": 24,
   "metadata": {
    "collapsed": false
   },
   "outputs": [
    {
     "name": "stdout",
     "output_type": "stream",
     "text": [
      "Done.\n"
     ]
    },
    {
     "data": {
      "text/html": [
       "<table>\n",
       "    <tr>\n",
       "        <th>Total fast foods</th>\n",
       "    </tr>\n",
       "    <tr>\n",
       "        <td>87</td>\n",
       "    </tr>\n",
       "</table>"
      ],
      "text/plain": [
       "[(87,)]"
      ]
     },
     "execution_count": 24,
     "metadata": {},
     "output_type": "execute_result"
    }
   ],
   "source": [
    "%sql SELECT COUNT(*) as \"Total fast foods\" FROM nodes_tags WHERE key = \"amenity\" AND value LIKE \"fast_food\";"
   ]
  },
  {
   "cell_type": "markdown",
   "metadata": {},
   "source": [
    "It is not good place for my kid. "
   ]
  },
  {
   "cell_type": "markdown",
   "metadata": {
    "code_folding": []
   },
   "source": [
    "```\n",
    "sqlite> select *  from nodes_tags WHERE key = \"amenity\" AND value LIKE \"k%\";\n",
    "```\n",
    "```\n",
    "1168111478,amenity,kindergarten,regular\n",
    "1200503957,amenity,kindergarten,regular\n",
    "1375026875,amenity,kindergarten,regular\n",
    "3834091857,amenity,kindergarten,regular\n",
    "5016353990,amenity,kindergarten,regular\n",
    "```"
   ]
  },
  {
   "cell_type": "markdown",
   "metadata": {},
   "source": [
    "## Time of actualization"
   ]
  },
  {
   "cell_type": "markdown",
   "metadata": {},
   "source": [
    "Due to many renovation and modernization of ways the map that may be used for GPS should be up to date. Let's check how  many times the user intervene in the ways tags: "
   ]
  },
  {
   "cell_type": "code",
   "execution_count": 12,
   "metadata": {
    "collapsed": false
   },
   "outputs": [
    {
     "name": "stdout",
     "output_type": "stream",
     "text": [
      "Done.\n"
     ]
    },
    {
     "data": {
      "text/html": [
       "<table>\n",
       "    <tr>\n",
       "        <th>Year</th>\n",
       "        <th>Number of timestamps</th>\n",
       "    </tr>\n",
       "    <tr>\n",
       "        <td>2008</td>\n",
       "        <td>12</td>\n",
       "    </tr>\n",
       "    <tr>\n",
       "        <td>2009</td>\n",
       "        <td>8</td>\n",
       "    </tr>\n",
       "    <tr>\n",
       "        <td>2010</td>\n",
       "        <td>4</td>\n",
       "    </tr>\n",
       "    <tr>\n",
       "        <td>2011</td>\n",
       "        <td>61</td>\n",
       "    </tr>\n",
       "    <tr>\n",
       "        <td>2012</td>\n",
       "        <td>55</td>\n",
       "    </tr>\n",
       "    <tr>\n",
       "        <td>2013</td>\n",
       "        <td>92</td>\n",
       "    </tr>\n",
       "    <tr>\n",
       "        <td>2014</td>\n",
       "        <td>2318</td>\n",
       "    </tr>\n",
       "    <tr>\n",
       "        <td>2015</td>\n",
       "        <td>4789</td>\n",
       "    </tr>\n",
       "    <tr>\n",
       "        <td>2016</td>\n",
       "        <td>2857</td>\n",
       "    </tr>\n",
       "    <tr>\n",
       "        <td>2017</td>\n",
       "        <td>29051</td>\n",
       "    </tr>\n",
       "    <tr>\n",
       "        <td>2018</td>\n",
       "        <td>47</td>\n",
       "    </tr>\n",
       "</table>"
      ],
      "text/plain": [
       "[('2008', 12),\n",
       " ('2009', 8),\n",
       " ('2010', 4),\n",
       " ('2011', 61),\n",
       " ('2012', 55),\n",
       " ('2013', 92),\n",
       " ('2014', 2318),\n",
       " ('2015', 4789),\n",
       " ('2016', 2857),\n",
       " ('2017', 29051),\n",
       " ('2018', 47)]"
      ]
     },
     "execution_count": 12,
     "metadata": {},
     "output_type": "execute_result"
    }
   ],
   "source": [
    "%%sql\n",
    "SELECT strftime(\"%Y\", timestamp) AS Year, COUNT(*) AS \"Number of timestamps\"\n",
    " FROM ways \n",
    "GROUP BY strftime(\"%Y\",timestamp);"
   ]
  },
  {
   "cell_type": "markdown",
   "metadata": {},
   "source": [
    "Between 2008 and 2013 there were not many interventions made by the users, however from 2014 the base seems to be updated. The threshold is at 2017. I will demonstrate the results made in the each year since January 2016:\n",
    "\n"
   ]
  },
  {
   "cell_type": "code",
   "execution_count": 33,
   "metadata": {
    "collapsed": false,
    "scrolled": false
   },
   "outputs": [
    {
     "name": "stdout",
     "output_type": "stream",
     "text": [
      "0 rows affected.\n",
      "0 rows affected.\n",
      "Done.\n"
     ]
    },
    {
     "data": {
      "text/html": [
       "<table>\n",
       "    <tr>\n",
       "        <th>strftime(&quot;%Y-%m&quot;, timestamp)</th>\n",
       "        <th>COUNT(*)</th>\n",
       "    </tr>\n",
       "    <tr>\n",
       "        <td>2016-01</td>\n",
       "        <td>82</td>\n",
       "    </tr>\n",
       "    <tr>\n",
       "        <td>2016-02</td>\n",
       "        <td>103</td>\n",
       "    </tr>\n",
       "    <tr>\n",
       "        <td>2016-03</td>\n",
       "        <td>129</td>\n",
       "    </tr>\n",
       "    <tr>\n",
       "        <td>2016-04</td>\n",
       "        <td>58</td>\n",
       "    </tr>\n",
       "    <tr>\n",
       "        <td>2016-05</td>\n",
       "        <td>207</td>\n",
       "    </tr>\n",
       "    <tr>\n",
       "        <td>2016-06</td>\n",
       "        <td>172</td>\n",
       "    </tr>\n",
       "    <tr>\n",
       "        <td>2016-07</td>\n",
       "        <td>236</td>\n",
       "    </tr>\n",
       "    <tr>\n",
       "        <td>2016-08</td>\n",
       "        <td>429</td>\n",
       "    </tr>\n",
       "    <tr>\n",
       "        <td>2016-09</td>\n",
       "        <td>165</td>\n",
       "    </tr>\n",
       "    <tr>\n",
       "        <td>2016-10</td>\n",
       "        <td>460</td>\n",
       "    </tr>\n",
       "    <tr>\n",
       "        <td>2016-11</td>\n",
       "        <td>108</td>\n",
       "    </tr>\n",
       "    <tr>\n",
       "        <td>2016-12</td>\n",
       "        <td>708</td>\n",
       "    </tr>\n",
       "    <tr>\n",
       "        <td>2017-01</td>\n",
       "        <td>3180</td>\n",
       "    </tr>\n",
       "    <tr>\n",
       "        <td>2017-02</td>\n",
       "        <td>372</td>\n",
       "    </tr>\n",
       "    <tr>\n",
       "        <td>2017-03</td>\n",
       "        <td>1646</td>\n",
       "    </tr>\n",
       "    <tr>\n",
       "        <td>2017-04</td>\n",
       "        <td>5026</td>\n",
       "    </tr>\n",
       "    <tr>\n",
       "        <td>2017-05</td>\n",
       "        <td>735</td>\n",
       "    </tr>\n",
       "    <tr>\n",
       "        <td>2017-06</td>\n",
       "        <td>8161</td>\n",
       "    </tr>\n",
       "    <tr>\n",
       "        <td>2017-07</td>\n",
       "        <td>6446</td>\n",
       "    </tr>\n",
       "    <tr>\n",
       "        <td>2017-08</td>\n",
       "        <td>2270</td>\n",
       "    </tr>\n",
       "    <tr>\n",
       "        <td>2017-09</td>\n",
       "        <td>436</td>\n",
       "    </tr>\n",
       "    <tr>\n",
       "        <td>2017-10</td>\n",
       "        <td>221</td>\n",
       "    </tr>\n",
       "    <tr>\n",
       "        <td>2017-11</td>\n",
       "        <td>102</td>\n",
       "    </tr>\n",
       "    <tr>\n",
       "        <td>2017-12</td>\n",
       "        <td>456</td>\n",
       "    </tr>\n",
       "    <tr>\n",
       "        <td>2018-01</td>\n",
       "        <td>47</td>\n",
       "    </tr>\n",
       "</table>"
      ],
      "text/plain": [
       "[('2016-01', 82),\n",
       " ('2016-02', 103),\n",
       " ('2016-03', 129),\n",
       " ('2016-04', 58),\n",
       " ('2016-05', 207),\n",
       " ('2016-06', 172),\n",
       " ('2016-07', 236),\n",
       " ('2016-08', 429),\n",
       " ('2016-09', 165),\n",
       " ('2016-10', 460),\n",
       " ('2016-11', 108),\n",
       " ('2016-12', 708),\n",
       " ('2017-01', 3180),\n",
       " ('2017-02', 372),\n",
       " ('2017-03', 1646),\n",
       " ('2017-04', 5026),\n",
       " ('2017-05', 735),\n",
       " ('2017-06', 8161),\n",
       " ('2017-07', 6446),\n",
       " ('2017-08', 2270),\n",
       " ('2017-09', 436),\n",
       " ('2017-10', 221),\n",
       " ('2017-11', 102),\n",
       " ('2017-12', 456),\n",
       " ('2018-01', 47)]"
      ]
     },
     "execution_count": 33,
     "metadata": {},
     "output_type": "execute_result"
    }
   ],
   "source": [
    "%%sql\n",
    "DROP VIEW last_year;\n",
    "CREATE VIEW last_year AS \n",
    "     SELECT strftime(\"%Y-%m\", timestamp) AS \"Year-Month\", COUNT(*) FROM ways \n",
    "      WHERE strftime(\"%Y\", timestamp) > \"2015\" \n",
    "     GROUP BY strftime(\"%Y-%m\", timestamp);\n",
    "\n",
    "SELECT * FROM last_year;"
   ]
  },
  {
   "cell_type": "markdown",
   "metadata": {},
   "source": [
    "Let's demonstrate it on the graph:"
   ]
  },
  {
   "cell_type": "code",
   "execution_count": 42,
   "metadata": {
    "collapsed": false
   },
   "outputs": [],
   "source": [
    "conn = sqlite3.connect(\"data/test.db\")\n",
    "c = conn.cursor()\n",
    "\n",
    "data = c.execute(\"SELECT * FROM last_year\")"
   ]
  },
  {
   "cell_type": "code",
   "execution_count": 43,
   "metadata": {
    "collapsed": false
   },
   "outputs": [],
   "source": [
    "years = data.fetchall()"
   ]
  },
  {
   "cell_type": "code",
   "execution_count": 50,
   "metadata": {
    "collapsed": false
   },
   "outputs": [
    {
     "ename": "TypeError",
     "evalue": "__init__() got an unexpected keyword argument 'orient'",
     "output_type": "error",
     "traceback": [
      "\u001b[0;31m---------------------------------------------------------------------------\u001b[0m",
      "\u001b[0;31mTypeError\u001b[0m                                 Traceback (most recent call last)",
      "\u001b[0;32m<ipython-input-50-3d3c50fbf287>\u001b[0m in \u001b[0;36m<module>\u001b[0;34m()\u001b[0m\n\u001b[1;32m      1\u001b[0m \u001b[0mplt\u001b[0m\u001b[1;33m.\u001b[0m\u001b[0mrcParams\u001b[0m\u001b[1;33m[\u001b[0m\u001b[1;34m\"figure.figsize\"\u001b[0m\u001b[1;33m]\u001b[0m \u001b[1;33m=\u001b[0m \u001b[1;33m[\u001b[0m\u001b[1;36m10\u001b[0m\u001b[1;33m,\u001b[0m\u001b[1;36m10\u001b[0m\u001b[1;33m]\u001b[0m\u001b[1;33m\u001b[0m\u001b[0m\n\u001b[0;32m----> 2\u001b[0;31m \u001b[0mlast_year\u001b[0m \u001b[1;33m=\u001b[0m \u001b[0mpd\u001b[0m\u001b[1;33m.\u001b[0m\u001b[0mDataFrame\u001b[0m\u001b[1;33m(\u001b[0m\u001b[0mdict\u001b[0m\u001b[1;33m(\u001b[0m\u001b[0myears\u001b[0m\u001b[1;33m)\u001b[0m\u001b[1;33m,\u001b[0m \u001b[0morient\u001b[0m\u001b[1;33m=\u001b[0m\u001b[1;34m\"index\"\u001b[0m\u001b[1;33m)\u001b[0m\u001b[1;33m\u001b[0m\u001b[0m\n\u001b[0m\u001b[1;32m      3\u001b[0m \u001b[0mlast_year\u001b[0m\u001b[1;33m.\u001b[0m\u001b[0mcolumns\u001b[0m \u001b[1;33m=\u001b[0m \u001b[1;33m[\u001b[0m\u001b[1;34m\"Month\"\u001b[0m\u001b[1;33m,\u001b[0m \u001b[1;34m\"Count\"\u001b[0m\u001b[1;33m]\u001b[0m\u001b[1;33m\u001b[0m\u001b[0m\n\u001b[1;32m      4\u001b[0m \u001b[0mx\u001b[0m\u001b[1;33m=\u001b[0m\u001b[1;33m[\u001b[0m\u001b[0mi\u001b[0m \u001b[1;32mfor\u001b[0m \u001b[0mi\u001b[0m \u001b[1;32min\u001b[0m \u001b[0mrange\u001b[0m\u001b[1;33m(\u001b[0m\u001b[0mlen\u001b[0m\u001b[1;33m(\u001b[0m\u001b[0mlast_year\u001b[0m\u001b[1;33m[\u001b[0m\u001b[1;34m\"Month\"\u001b[0m\u001b[1;33m]\u001b[0m\u001b[1;33m)\u001b[0m\u001b[1;33m)\u001b[0m\u001b[1;33m]\u001b[0m\u001b[1;33m\u001b[0m\u001b[0m\n\u001b[1;32m      5\u001b[0m \u001b[0mplt\u001b[0m\u001b[1;33m.\u001b[0m\u001b[0mplot\u001b[0m\u001b[1;33m(\u001b[0m\u001b[0mx\u001b[0m\u001b[1;33m,\u001b[0m \u001b[0mlast_year\u001b[0m\u001b[1;33m[\u001b[0m\u001b[1;34m\"Count\"\u001b[0m\u001b[1;33m]\u001b[0m\u001b[1;33m)\u001b[0m\u001b[1;33m\u001b[0m\u001b[0m\n",
      "\u001b[0;31mTypeError\u001b[0m: __init__() got an unexpected keyword argument 'orient'"
     ]
    }
   ],
   "source": [
    "plt.rcParams[\"figure.figsize\"] = [10,10]\n",
    "last_year = pd.DataFrame({\"Month\": years.keys()(years), orient=\"index\")\n",
    "last_year.columns = [\"Month\", \"Count\"]\n",
    "x=[i for i in range(len(last_year[\"Month\"]))]\n",
    "plt.plot(x, last_year[\"Count\"])\n",
    "plt.xticks([i for i in range(len(last_year[\"Month\"])) if not i%3],\n",
    "            [i for num, i in enumerate(last_year[\"Month\"]) if not num%3])    \n",
    "plt.xlabel(\"Year - month\")\n",
    "plt.ylabel(\"Number of updates\")\n",
    "plt.title(\"Number of updates of Wroclaw's OSM - 2016-2018\")\n",
    "plt.show()"
   ]
  },
  {
   "cell_type": "code",
   "execution_count": 49,
   "metadata": {
    "collapsed": false
   },
   "outputs": [
    {
     "data": {
      "text/plain": [
       "34798592"
      ]
     },
     "execution_count": 49,
     "metadata": {},
     "output_type": "execute_result"
    }
   ],
   "source": [
    "os.path.getsize(\"test.db\")"
   ]
  },
  {
   "cell_type": "markdown",
   "metadata": {
    "collapsed": true
   },
   "source": [
    "# Literature\n",
    "\n"
   ]
  },
  {
   "cell_type": "markdown",
   "metadata": {},
   "source": [
    "1. On Wrocław https://en.wikipedia.org/wiki/Wroc%C5%82aw"
   ]
  },
  {
   "cell_type": "code",
   "execution_count": null,
   "metadata": {
    "collapsed": true
   },
   "outputs": [],
   "source": []
  }
 ],
 "metadata": {
  "kernelspec": {
   "display_name": "Python 3",
   "language": "python",
   "name": "python3"
  },
  "language_info": {
   "codemirror_mode": {
    "name": "ipython",
    "version": 3
   },
   "file_extension": ".py",
   "mimetype": "text/x-python",
   "name": "python",
   "nbconvert_exporter": "python",
   "pygments_lexer": "ipython3",
   "version": "3.6.0"
  },
  "toc": {
   "nav_menu": {
    "height": "359px",
    "width": "290px"
   },
   "number_sections": true,
   "sideBar": true,
   "skip_h1_title": false,
   "toc_cell": true,
   "toc_position": {},
   "toc_section_display": "block",
   "toc_window_display": false
  }
 },
 "nbformat": 4,
 "nbformat_minor": 2
}
