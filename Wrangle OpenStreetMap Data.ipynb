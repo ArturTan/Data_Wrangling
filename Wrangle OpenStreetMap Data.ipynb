{
 "cells": [
  {
   "cell_type": "markdown",
   "metadata": {},
   "source": [
    "## About Wrocław"
   ]
  },
  {
   "cell_type": "markdown",
   "metadata": {},
   "source": [
    "Wrocław (Wroclaw) is a city in Poland where I live. It is one of the fastest growing cities in Poland economically as well as in the size aspect: city authorities are increasing expenses on the infrastructure  annually and therefore Wrocław have a lot of renovation and modernization sites. This concern also streets - as the Wroclaw citizen I have to be up-to-date with the information on the streets currently being renovated and possible traffics that could be met on the way to school or to work. "
   ]
  },
  {
   "cell_type": "markdown",
   "metadata": {},
   "source": [
    "## My analysis"
   ]
  },
  {
   "cell_type": "code",
   "execution_count": 5,
   "metadata": {
    "scrolled": false
   },
   "outputs": [
    {
     "name": "stdout",
     "output_type": "stream",
     "text": [
      "              File           Size(MB)\n",
      "          ways.csv           2.283533\n",
      "           test.db          34.798592\n",
      "    nodes_tags.csv            3.59219\n",
      "        sample.osm           0.679161\n",
      "         nodes.csv          20.127293\n",
      "street_mapping.csv           0.013742\n",
      "       wroclaw.osm          66.331048\n",
      "     ways_tags.csv           4.033549\n",
      "    ways_nodes.csv           8.379125\n"
     ]
    }
   ],
   "source": [
    "print_size(\"data\")            "
   ]
  },
  {
   "cell_type": "markdown",
   "metadata": {},
   "source": [
    "__NOTE__: Source database (\"wroclaw.osm\") has more than 66 MB. "
   ]
  },
  {
   "cell_type": "markdown",
   "metadata": {},
   "source": [
    "Problems encountered and solution thereto:\n",
    "\n",
    "1. In the Polish OSM we have another tag attribute (\"SYM_UL\"), a unique number assigned to the each street in the particular. I have found that in my OSM there are three streets without such information, so I filled this missing data and create second table mapping street names and SYM_UL codes. \n",
    "2. Due to the problem with importing data from csv files (nodes.csv, ways.csv), I have created an own importer based on the sqlite3 python library. \n",
    "2. As per consistency between Python schema and SQL schema I have pointed \"version\" tag as the integer in Python schema. \n",
    "\n",
    "Questions asked:\n",
    "\n",
    "1. As the open source fan, I wonder how many users participate in the creation of the map. \n",
    "2. Due to the application OSM as the GPS backend I would like to see whether it is not outdated.\n",
    "2. Due to having kids and considering moving from Wroclaw - how many kindergartens are in Wrocław. "
   ]
  },
  {
   "cell_type": "markdown",
   "metadata": {},
   "source": [
    "Scripts used:"
   ]
  },
  {
   "cell_type": "markdown",
   "metadata": {},
   "source": [
    "|scripts|What does it?|\n",
    "|:-|:-|\n",
    "|version_checker.py||\n",
    " |     printsize.py|Printing size of the data files|\n",
    "  | tablecreator.py|Creation of table via sqlite3 library\n",
    " |    schematest.py|It is the schema file from the course - updated with \"version\" input - it is now an integer\n",
    "| samplecreation.py|It is the file from the course\n",
    "  |streetmapping.py|My answer on the issue with sym_ul\n",
    "   |      osmcsv.py|It is the file from the course\n",
    "    |basecreator.py|Creating the database\n",
    "    | csv_to_sql.py|Creating the tables in the database"
   ]
  },
  {
   "cell_type": "markdown",
   "metadata": {},
   "source": [
    "#  Problems encountered in your map"
   ]
  },
  {
   "cell_type": "markdown",
   "metadata": {},
   "source": [
    "## SYM_UL for every street"
   ]
  },
  {
   "cell_type": "markdown",
   "metadata": {},
   "source": [
    "We could see that most frequent tags in the nodes_tags table are following:"
   ]
  },
  {
   "cell_type": "code",
   "execution_count": null,
   "metadata": {
    "collapsed": true
   },
   "outputs": [],
   "source": [
    "%%sql \n",
    "SELECT key, COUNT (key) \n",
    "  FROM  nodes_tags \n",
    " GROUP BY key \n",
    " ORDER by count(key) \n",
    "  DESC LIMIT 10;"
   ]
  },
  {
   "cell_type": "markdown",
   "metadata": {},
   "source": [
    "From the above we could see that  there are 4765 street tags, however \"sym_ul\" have 4266 positions. What is interesting in the Polish section there is a unique key added to each street (\"street: sym_ul\"). As you are probably  an English speaking reader you may google translate this thread: https://forum.openstreetmap.org/viewtopic.php?id=59111 or here https://wiki.openstreetmap.org/wiki/Talk:Pl:Importy/Adresy. Unfortunately this tag is not documented in English. Sym_ul is the id added by users on basis of the registry by the Polish National Statistical Office. \n",
    "Let's check how many unique streets we have in the nodes_tags table and how many unique \"sym_ul\" tags we have therein too. "
   ]
  },
  {
   "cell_type": "code",
   "execution_count": 10,
   "metadata": {},
   "outputs": [
    {
     "name": "stdout",
     "output_type": "stream",
     "text": [
      "Done.\n"
     ]
    },
    {
     "data": {
      "text/html": [
       "<table>\n",
       "    <tr>\n",
       "        <th>Total number fo streets</th>\n",
       "    </tr>\n",
       "    <tr>\n",
       "        <td>292</td>\n",
       "    </tr>\n",
       "</table>"
      ],
      "text/plain": [
       "[(292,)]"
      ]
     },
     "execution_count": 10,
     "metadata": {},
     "output_type": "execute_result"
    }
   ],
   "source": [
    "%%sql\n",
    "SELECT COUNT(*) as \"Total number fo streets\"\n",
    "FROM \n",
    "    (SELECT value \n",
    "       FROM nodes_tags\n",
    "      WHERE key = \"street\"\n",
    "      UNION SELECT value\n",
    "       FROM ways_tags\n",
    "      WHERE key = \"street\"\n",
    "      GROUP BY value);"
   ]
  },
  {
   "cell_type": "code",
   "execution_count": 11,
   "metadata": {},
   "outputs": [
    {
     "name": "stdout",
     "output_type": "stream",
     "text": [
      "Done.\n"
     ]
    },
    {
     "data": {
      "text/html": [
       "<table>\n",
       "    <tr>\n",
       "        <th>Total number of sym_ul tags</th>\n",
       "    </tr>\n",
       "    <tr>\n",
       "        <td>290</td>\n",
       "    </tr>\n",
       "</table>"
      ],
      "text/plain": [
       "[(290,)]"
      ]
     },
     "execution_count": 11,
     "metadata": {},
     "output_type": "execute_result"
    }
   ],
   "source": [
    "%%sql\n",
    "SELECT COUNT(*) AS \"Total number of sym_ul tags\" \n",
    " FROM \n",
    "    (SELECT value \n",
    "       FROM nodes_tags\n",
    "      WHERE key = \"street:sym_ul\"\n",
    "      UNION SELECT value\n",
    "       FROM ways_tags\n",
    "      WHERE key = \"street:sym_ul\"\n",
    "      GROUP BY value);"
   ]
  },
  {
   "cell_type": "markdown",
   "metadata": {},
   "source": [
    "Then - after making investigation of the entire dataset (so also the ways_tags) with the streetmapping file we could find that the following streets have got no \"sym_ul\" tags: \n",
    "1. Grabarska\n",
    "2. Adama Mickiewicza\n",
    "3. Na Niskich Łąkach\n",
    "\n",
    "I have changed it basing on the official base https://goo.gl/qU3mXZ. I have also created the table which enable the database user to assign street codes with the street name (\"```streetmapping.csv```\")."
   ]
  },
  {
   "cell_type": "markdown",
   "metadata": {},
   "source": [
    "## Data importer based on the sqlite3 python library - \"```csv_to_sql.py```\""
   ]
  },
  {
   "cell_type": "markdown",
   "metadata": {},
   "source": [
    "After importing data to csv I have found some issues:\n",
    "\n",
    "```nodes.csv:253769: INSERT failed: UNIQUE constraint failed: nodes.id```\n",
    "\n"
   ]
  },
  {
   "cell_type": "markdown",
   "metadata": {},
   "source": [
    "I have checked it manually while uploading each node separately from node.csv into the sqlite3. Please find below an exemplary chunk of the code: "
   ]
  },
  {
   "cell_type": "markdown",
   "metadata": {},
   "source": [
    "After applying the script \"```csv_to_sql.py```\" I have not encountered any errors. __In the day-to-day work as the data scientist / analyst when he connects from one source to another  (in our case from csv to sql) some errors can occur that could be  omitted by another API.__\n",
    "\n",
    "__Here we have omitted this error through applying the Python script what spare our time __"
   ]
  },
  {
   "cell_type": "markdown",
   "metadata": {},
   "source": [
    "##  \"version\" tag as the integer - ```versionchecker.py```"
   ]
  },
  {
   "cell_type": "markdown",
   "metadata": {},
   "source": [
    "From the original schema we have:"
   ]
  },
  {
   "cell_type": "markdown",
   "metadata": {},
   "source": [
    "Name | Type of data SQL | Type of data python \n",
    ":-:|-|-\n",
    "id| integer | int [primary key]\n",
    "lat | REAL | float\n",
    "lon | REAL | float\n",
    "user | TEXT | int\n",
    "uid | INTEGER | int\n",
    "version | INTEGER | int\n",
    "changeset | INTEGER | int\n",
    "timestamp | TEXT | string\n"
   ]
  },
  {
   "cell_type": "markdown",
   "metadata": {},
   "source": [
    "In the file schema we have however:\n",
    "\n",
    "```'version': {'required': True, 'type': 'string'},```"
   ]
  },
  {
   "cell_type": "markdown",
   "metadata": {},
   "source": [
    "What is inconsistent with the integer type set in the SQL schema. Thus, Python is able to convert it to the integer so I have updated schema with:\n",
    "\n",
    "```'version': {'required': True, 'type': 'integer'},```\n",
    "\n"
   ]
  },
  {
   "cell_type": "markdown",
   "metadata": {},
   "source": [
    "# Overview of the Data"
   ]
  },
  {
   "cell_type": "markdown",
   "metadata": {},
   "source": [
    "__ Counting nodes, ways and users__"
   ]
  },
  {
   "cell_type": "code",
   "execution_count": null,
   "metadata": {
    "collapsed": true
   },
   "outputs": [],
   "source": [
    "SELECT COUNT(*) AS \"NO of Nodes\" FROM (SELECT DISTINCT id FROM nodes);\n",
    "SELECT COUNT(*) AS \"NO of Ways\" FROM (SELECT DISTINCT id FROM ways);"
   ]
  },
  {
   "cell_type": "markdown",
   "metadata": {},
   "source": [
    "Number of ways is 39294. Number of nodes is 253769."
   ]
  },
  {
   "cell_type": "code",
   "execution_count": 111,
   "metadata": {
    "scrolled": true
   },
   "outputs": [
    {
     "name": "stdout",
     "output_type": "stream",
     "text": [
      "Done.\n",
      "Done.\n"
     ]
    },
    {
     "data": {
      "text/html": [
       "<table>\n",
       "    <tr>\n",
       "        <th>user</th>\n",
       "        <th>COUNT(*)</th>\n",
       "    </tr>\n",
       "    <tr>\n",
       "        <td>rowers2</td>\n",
       "        <td>112861</td>\n",
       "    </tr>\n",
       "    <tr>\n",
       "        <td>lms</td>\n",
       "        <td>74278</td>\n",
       "    </tr>\n",
       "    <tr>\n",
       "        <td>maraf24</td>\n",
       "        <td>70277</td>\n",
       "    </tr>\n",
       "</table>"
      ],
      "text/plain": [
       "[('rowers2', 112861), ('lms', 74278), ('maraf24', 70277)]"
      ]
     },
     "execution_count": 111,
     "metadata": {},
     "output_type": "execute_result"
    }
   ],
   "source": [
    "CREATE VIEW users AS  \n",
    "SELECT user AS user \n",
    "FROM nodes \n",
    "UNION ALL\n",
    "SELECT user as user FROM ways;\n",
    "\n",
    "SELECT DISTINCT user, COUNT(*) FROM users \n",
    " GROUP BY user \n",
    " ORDER BY count(*) \n",
    " DESC LIMIT 3;"
   ]
  },
  {
   "cell_type": "markdown",
   "metadata": {},
   "source": [
    "There are three guys that created more than 250000 elements! Three guys from __368__ people who create the map (below see the SQL query)."
   ]
  },
  {
   "cell_type": "code",
   "execution_count": null,
   "metadata": {
    "collapsed": true
   },
   "outputs": [],
   "source": [
    "SELECT count(user) as \"No. of users\" FROM (SELECT DISTINCT * FROM users);"
   ]
  },
  {
   "cell_type": "markdown",
   "metadata": {},
   "source": [
    "It is 88% ((112861 + 74278 + 70277)/293063) of the elements! The dataset should be verified due to the fact that only three users created almost 88% of the  map. \n",
    "\n",
    "It could influence potentially negatively on the quality of the map -  when the map is not verified by more users it could cause error to GPS system using OSM. "
   ]
  },
  {
   "cell_type": "markdown",
   "metadata": {},
   "source": [
    "__Counting number of kindergartens / schools __"
   ]
  },
  {
   "cell_type": "markdown",
   "metadata": {},
   "source": [
    "As I have mentioned due to the having a kid, it is important to assure him a proper education and the best  opportunities to learn as well as to play. Let's check types of kindergartens and schools in the neighbourhood."
   ]
  },
  {
   "cell_type": "code",
   "execution_count": null,
   "metadata": {
    "collapsed": true
   },
   "outputs": [],
   "source": [
    "SELECT COUNT(*) \n",
    "  FROM nodes_tags \n",
    " WHERE key = \"amenity\" \n",
    "   AND value LIKE \"kindergarten\" \n",
    "    OR value LIKE \"school\"\n",
    "    OR value LIKE \"playground\";"
   ]
  },
  {
   "cell_type": "markdown",
   "metadata": {},
   "source": [
    "This query shows that only 23 positions fulfills query criteria, what is however too small as for Wrocław. According to this [site](https://www.wroclaw.pl/files/edu_szkoly/33Przedszkola.xlsx), the total number of public kindergartens is nearly __100__. Similarly, number of schools amounts to almost __100__ (check [here]( https://www.wroclaw.pl/files/edu_szkoly/33Szkoly%20Podstawowe.xlsx)). \n",
    "\n",
    "__Result__: The dataset is not reliable in the searching such objects like kindergartens or schools. It cannot be also excluded that other types of locations could be different from the reality.   \n",
    "\n"
   ]
  },
  {
   "cell_type": "markdown",
   "metadata": {},
   "source": [
    "__Time of actualization__"
   ]
  },
  {
   "cell_type": "markdown",
   "metadata": {},
   "source": [
    "Every map used in GPS should be up-to-date. Let's check how  many times the users intervene and update the way tags as regards as Wrocław: "
   ]
  },
  {
   "cell_type": "code",
   "execution_count": null,
   "metadata": {
    "collapsed": true
   },
   "outputs": [],
   "source": [
    "SELECT strftime(\"%Y\", timestamp) AS Year, COUNT(*) AS \"Number of timestamps\"\n",
    " FROM ways \n",
    "GROUP BY strftime(\"%Y\",timestamp);"
   ]
  },
  {
   "cell_type": "markdown",
   "metadata": {},
   "source": [
    "Between 2008 and 2013 there were not many interventions made by the users, however from 2014 the base seems to be updated. The threshold is at 2017. You could see it in the file named graph.jpg in the data folder. Most of the changes have been made in 2017. However the tendency is broken in January 2018 what could put in the question the accuracy and validity of data. \n",
    "\n",
    "__Conclusion__: You need to be careful using the OSM of Wroclaw! "
   ]
  },
  {
   "cell_type": "markdown",
   "metadata": {},
   "source": [
    "# Other ideas about the dataset"
   ]
  },
  {
   "cell_type": "markdown",
   "metadata": {},
   "source": [
    "To sum up the following analysis: \n",
    "1. The map was created by three users in almost 88%. It puts the quality of the map __in the question__, assuming that the higher number of users participating in creation of the map, the higher level of verification of the information contained therein. __Therefore__, improvement requires an engagement of the other open source volunteers who will verify and change the map, with the benefit for the passive users - for instance, the map will be a good  a reliable source for the parent as the information about the number of schools or kindergartens. Other locations should be also always verified. __However__, it could be very hard to monitor the state of locations, ways and nodes in Wrocław in real time. The gathering much larger number of users could also be difficult to achieve due to the organizational problems (it’s a so called human factor). \n",
    "2. What has been analyzed through queries above - \"SYM_UL\" tag could also cause some discrepancies for non-Polish GPS Systems. However, as this tag is congruent with other Polish systems of information provided by authorities, the benefits of using it for Polish users could be great. But open source community should prepare some uniform standard about the \"SYM_UL\" tag in order to eliminate possible system integration problems between Polish OSM and other GPS System. \n",
    "3. The problem with eliminating discrepancies between real state of ways / locations and Wrocław and OSM map is that you cannot make it on your own without help of others. However, some verification level you could achieve through checking the OSM content with Google Maps. This requires creation of relevant scripts enabling you to automate scraping information about locations and ways from Google Maps and verification  of this information with the data from OSM. "
   ]
  }
 ],
 "metadata": {
  "kernelspec": {
   "display_name": "Python 3",
   "language": "python",
   "name": "python3"
  },
  "language_info": {
   "codemirror_mode": {
    "name": "ipython",
    "version": 3
   },
   "file_extension": ".py",
   "mimetype": "text/x-python",
   "name": "python",
   "nbconvert_exporter": "python",
   "pygments_lexer": "ipython3",
   "version": "3.5.2"
  },
  "toc": {
   "nav_menu": {
    "height": "359px",
    "width": "290px"
   },
   "number_sections": true,
   "sideBar": true,
   "skip_h1_title": false,
   "toc_cell": true,
   "toc_position": {},
   "toc_section_display": "block",
   "toc_window_display": true
  }
 },
 "nbformat": 4,
 "nbformat_minor": 2
}
